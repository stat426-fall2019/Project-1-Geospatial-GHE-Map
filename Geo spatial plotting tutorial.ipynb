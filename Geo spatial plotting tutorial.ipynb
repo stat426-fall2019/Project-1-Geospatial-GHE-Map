{
 "cells": [
  {
   "cell_type": "markdown",
   "metadata": {},
   "source": [
    "<font color = '84AD61'>\n",
    "    \n",
    "# __Tutorial: Geospatial Plotting of Total Green House Emissions (GHE) for Various Cities Across the World.__\n",
    "    "
   ]
  },
  {
   "cell_type": "markdown",
   "metadata": {},
   "source": [
    "<font color = '5780BC'>\n",
    "\n",
    "## Overview"
   ]
  },
  {
   "cell_type": "markdown",
   "metadata": {},
   "source": [
    "In this tutorial, we will learn how to make a geospatial map that visualizes various cities' green house gas emissions (GHE). We will overlay a scatterplot of cities' longitude and latitude over a map, then manipulate the aesthetics of the points based on each city's GHE (meausred in metric tonnes of CO2)."
   ]
  },
  {
   "cell_type": "markdown",
   "metadata": {},
   "source": [
    "<font color = '5780BC'>\n",
    "\n",
    "### Packages"
   ]
  },
  {
   "cell_type": "markdown",
   "metadata": {},
   "source": [
    "There are only a few packages we will need to complete this project. We will use Numpy and Pandas for the data importing, cleaning, manipulation. Additionally, we will breifly use the Seaborn package for a simple visualization of our data, but for our primary data visualization, we will use the __Plotly__ package. We can pip install this package try doing this either in the terminal or in the notebook."
   ]
  },
  {
   "cell_type": "code",
   "execution_count": 1,
   "metadata": {},
   "outputs": [],
   "source": [
    "# install Plotly \n",
    "# pip install plotly == 4.2.1"
   ]
  },
  {
   "cell_type": "code",
   "execution_count": 2,
   "metadata": {},
   "outputs": [],
   "source": [
    "# import the remainder of our packages\n",
    "import pandas as pd\n",
    "import numpy as np\n",
    "import seaborn as sns "
   ]
  },
  {
   "cell_type": "markdown",
   "metadata": {},
   "source": [
    "<font color = '5780BC'>\n",
    "    \n",
    "### Part One: Data Importing and Cleaning"
   ]
  },
  {
   "cell_type": "markdown",
   "metadata": {},
   "source": [
    "The dataset we will use for this geospatial visualization is provided by the Carbon Disclosure Project. The dataset is from 2016 and can be found at: https://data.cdp.net/Emissions/2016-Citywide-GHG-Emissions/dfed-thx7/data. From this webpage, we can export the dataset as a .csv file (see image below)."
   ]
  },
  {
   "cell_type": "markdown",
   "metadata": {},
   "source": [
    "<div>\n",
    "<img src = \"cdp.png\" width = 500>\n",
    "<div>"
   ]
  },
  {
   "cell_type": "markdown",
   "metadata": {},
   "source": [
    "After downloading the .csv file, we will read it as a dataframe, using the Pandas read_csv function."
   ]
  },
  {
   "cell_type": "code",
   "execution_count": 3,
   "metadata": {},
   "outputs": [],
   "source": [
    "# read in the ghe 2016 dataset\n",
    "ghe = pd.read_csv('2016_-_Citywide_GHG_Emissions.csv')"
   ]
  },
  {
   "cell_type": "markdown",
   "metadata": {},
   "source": [
    "Let's look at the dataframe we have created."
   ]
  },
  {
   "cell_type": "code",
   "execution_count": 4,
   "metadata": {},
   "outputs": [
    {
     "name": "stdout",
     "output_type": "stream",
     "text": [
      "(187, 27)\n"
     ]
    },
    {
     "data": {
      "text/html": [
       "<div>\n",
       "<style scoped>\n",
       "    .dataframe tbody tr th:only-of-type {\n",
       "        vertical-align: middle;\n",
       "    }\n",
       "\n",
       "    .dataframe tbody tr th {\n",
       "        vertical-align: top;\n",
       "    }\n",
       "\n",
       "    .dataframe thead th {\n",
       "        text-align: right;\n",
       "    }\n",
       "</style>\n",
       "<table border=\"1\" class=\"dataframe\">\n",
       "  <thead>\n",
       "    <tr style=\"text-align: right;\">\n",
       "      <th></th>\n",
       "      <th>Account Number</th>\n",
       "      <th>City Name</th>\n",
       "      <th>Country</th>\n",
       "      <th>City Short Name</th>\n",
       "      <th>C40</th>\n",
       "      <th>Reporting Year</th>\n",
       "      <th>Measurement Year</th>\n",
       "      <th>Boundary</th>\n",
       "      <th>Primary Methodology</th>\n",
       "      <th>Methodology Details</th>\n",
       "      <th>...</th>\n",
       "      <th>Current Population</th>\n",
       "      <th>City GDP</th>\n",
       "      <th>GDP Currency</th>\n",
       "      <th>Year of GDP</th>\n",
       "      <th>GDP Source</th>\n",
       "      <th>Average annual temperature (in Celsius)​</th>\n",
       "      <th>​Land area (in square km)</th>\n",
       "      <th>Average altitude (m)</th>\n",
       "      <th>City Location</th>\n",
       "      <th>Country Location</th>\n",
       "    </tr>\n",
       "  </thead>\n",
       "  <tbody>\n",
       "    <tr>\n",
       "      <th>0</th>\n",
       "      <td>54650</td>\n",
       "      <td>Prefeitura de Palmas</td>\n",
       "      <td>Brazil</td>\n",
       "      <td>Palmas</td>\n",
       "      <td>NaN</td>\n",
       "      <td>2016</td>\n",
       "      <td>12/31/2013 12:00:00 AM</td>\n",
       "      <td>A metropolitan area</td>\n",
       "      <td>Global Protocol for Community-Scale Greenhouse...</td>\n",
       "      <td>O diagnóstico qualitativo das informações comp...</td>\n",
       "      <td>...</td>\n",
       "      <td>272726.0</td>\n",
       "      <td>899887.0</td>\n",
       "      <td>BRL     Brazilian Real</td>\n",
       "      <td>2016.0</td>\n",
       "      <td>NaN</td>\n",
       "      <td>NaN</td>\n",
       "      <td>NaN</td>\n",
       "      <td>NaN</td>\n",
       "      <td>(-10.249091, -48.324286)</td>\n",
       "      <td>(-14.235004, -51.92528)</td>\n",
       "    </tr>\n",
       "    <tr>\n",
       "      <th>1</th>\n",
       "      <td>59996</td>\n",
       "      <td>Batangas City</td>\n",
       "      <td>Philippines</td>\n",
       "      <td>Batangas</td>\n",
       "      <td>NaN</td>\n",
       "      <td>2016</td>\n",
       "      <td>12/20/2010 12:00:00 AM</td>\n",
       "      <td>A metropolitan area</td>\n",
       "      <td>2006 IPCC Guidelines for National Greenhouse G...</td>\n",
       "      <td>NaN</td>\n",
       "      <td>...</td>\n",
       "      <td>332458.0</td>\n",
       "      <td>NaN</td>\n",
       "      <td>PHP     Philippine Peso</td>\n",
       "      <td>NaN</td>\n",
       "      <td>NaN</td>\n",
       "      <td>25.0</td>\n",
       "      <td>285.0</td>\n",
       "      <td>10.0</td>\n",
       "      <td>(13.756465, 121.058308)</td>\n",
       "      <td>(12.879721, 121.774017)</td>\n",
       "    </tr>\n",
       "    <tr>\n",
       "      <th>2</th>\n",
       "      <td>55179</td>\n",
       "      <td>City of Okayama</td>\n",
       "      <td>Japan</td>\n",
       "      <td>Okayama</td>\n",
       "      <td>NaN</td>\n",
       "      <td>2016</td>\n",
       "      <td>03/31/2013 12:00:00 AM</td>\n",
       "      <td>Administrative boundary of a local government</td>\n",
       "      <td>Other</td>\n",
       "      <td>NaN</td>\n",
       "      <td>...</td>\n",
       "      <td>705917.0</td>\n",
       "      <td>2066421.0</td>\n",
       "      <td>JPY     Japanese yen</td>\n",
       "      <td>2015.0</td>\n",
       "      <td>岡山県統計分析課</td>\n",
       "      <td>16.1</td>\n",
       "      <td>790.0</td>\n",
       "      <td>55.0</td>\n",
       "      <td>(34.655146, 133.919502)</td>\n",
       "      <td>(36.204824, 138.252924)</td>\n",
       "    </tr>\n",
       "  </tbody>\n",
       "</table>\n",
       "<p>3 rows × 27 columns</p>\n",
       "</div>"
      ],
      "text/plain": [
       "   Account Number             City Name      Country City Short Name  C40  \\\n",
       "0           54650  Prefeitura de Palmas       Brazil          Palmas  NaN   \n",
       "1           59996         Batangas City  Philippines        Batangas  NaN   \n",
       "2           55179       City of Okayama        Japan         Okayama  NaN   \n",
       "\n",
       "   Reporting Year        Measurement Year  \\\n",
       "0            2016  12/31/2013 12:00:00 AM   \n",
       "1            2016  12/20/2010 12:00:00 AM   \n",
       "2            2016  03/31/2013 12:00:00 AM   \n",
       "\n",
       "                                        Boundary  \\\n",
       "0                            A metropolitan area   \n",
       "1                            A metropolitan area   \n",
       "2  Administrative boundary of a local government   \n",
       "\n",
       "                                 Primary Methodology  \\\n",
       "0  Global Protocol for Community-Scale Greenhouse...   \n",
       "1  2006 IPCC Guidelines for National Greenhouse G...   \n",
       "2                                              Other   \n",
       "\n",
       "                                 Methodology Details  ... Current Population  \\\n",
       "0  O diagnóstico qualitativo das informações comp...  ...           272726.0   \n",
       "1                                                NaN  ...           332458.0   \n",
       "2                                                NaN  ...           705917.0   \n",
       "\n",
       "    City GDP             GDP Currency  Year of GDP GDP Source  \\\n",
       "0   899887.0   BRL     Brazilian Real       2016.0        NaN   \n",
       "1        NaN  PHP     Philippine Peso          NaN        NaN   \n",
       "2  2066421.0     JPY     Japanese yen       2015.0   岡山県統計分析課   \n",
       "\n",
       "  Average annual temperature (in Celsius)​  ​Land area (in square km)  \\\n",
       "0                                      NaN                        NaN   \n",
       "1                                     25.0                      285.0   \n",
       "2                                     16.1                      790.0   \n",
       "\n",
       "   Average altitude (m)             City Location         Country Location  \n",
       "0                   NaN  (-10.249091, -48.324286)  (-14.235004, -51.92528)  \n",
       "1                  10.0   (13.756465, 121.058308)  (12.879721, 121.774017)  \n",
       "2                  55.0   (34.655146, 133.919502)  (36.204824, 138.252924)  \n",
       "\n",
       "[3 rows x 27 columns]"
      ]
     },
     "execution_count": 4,
     "metadata": {},
     "output_type": "execute_result"
    }
   ],
   "source": [
    "print(ghe.shape)\n",
    "ghe.head(3)"
   ]
  },
  {
   "cell_type": "markdown",
   "metadata": {},
   "source": [
    "As we can see, there are 187 observations and 27 variables in this dataframe. At the most basic level, our geospatial viz. relies on each cities longitude and latitude. The column titled 'City Location' contains this information. Let's take a look at this column to see how it's formatted:"
   ]
  },
  {
   "cell_type": "code",
   "execution_count": 5,
   "metadata": {},
   "outputs": [
    {
     "name": "stdout",
     "output_type": "stream",
     "text": [
      "<class 'str'>\n"
     ]
    },
    {
     "data": {
      "text/plain": [
       "0    (-10.249091, -48.324286)\n",
       "1     (13.756465, 121.058308)\n",
       "2     (34.655146, 133.919502)\n",
       "3     (42.258634, -87.840625)\n",
       "4     (38.890604, -90.184276)\n",
       "Name: City Location, dtype: object"
      ]
     },
     "execution_count": 5,
     "metadata": {},
     "output_type": "execute_result"
    }
   ],
   "source": [
    "print(type(ghe['City Location'][1]))\n",
    "ghe['City Location'].head()"
   ]
  },
  {
   "cell_type": "markdown",
   "metadata": {},
   "source": [
    "This column lists, as a string, each city's latitude and longitude, __in this order__ (a quick search on https://www.latlong.net/ can help us identify which coordinate is which, since they are not labeled in this column). As is, this column is not useful in creating our data visualization. \n",
    "\n",
    "At its core, our visualization will be a scatterplot of each city's longitude and latitude, so from 'City Location' we need to create two columns: one that contains each city's longitude and one that contains each city's latitude. \n",
    "\n",
    "Before we split up this column, let's get ride of the parentheses."
   ]
  },
  {
   "cell_type": "code",
   "execution_count": 6,
   "metadata": {},
   "outputs": [],
   "source": [
    "# replace '(' and ')' with blanks:\n",
    "ghe['City Location'] = ghe['City Location'].str.replace('(', '')\n",
    "ghe['City Location'] = ghe['City Location'].str.replace(')', '')"
   ]
  },
  {
   "cell_type": "markdown",
   "metadata": {},
   "source": [
    "Let's look at the changes we have made to this column."
   ]
  },
  {
   "cell_type": "code",
   "execution_count": 7,
   "metadata": {},
   "outputs": [
    {
     "data": {
      "text/plain": [
       "0    -10.249091, -48.324286\n",
       "1     13.756465, 121.058308\n",
       "2     34.655146, 133.919502\n",
       "Name: City Location, dtype: object"
      ]
     },
     "execution_count": 7,
     "metadata": {},
     "output_type": "execute_result"
    }
   ],
   "source": [
    "ghe['City Location'].head(3)"
   ]
  },
  {
   "cell_type": "markdown",
   "metadata": {},
   "source": [
    "This looks good. Now we can split up the value in this column. Since the column is of the class 'str', we can use the str.split function. Each latitude and longitude is seperated by a comma, so we can split up the string on this character:"
   ]
  },
  {
   "cell_type": "code",
   "execution_count": 8,
   "metadata": {},
   "outputs": [],
   "source": [
    "ghe['City Location'] = ghe['City Location'].str.split(',')"
   ]
  },
  {
   "cell_type": "markdown",
   "metadata": {},
   "source": [
    "Let's look at the result: "
   ]
  },
  {
   "cell_type": "code",
   "execution_count": 9,
   "metadata": {},
   "outputs": [
    {
     "name": "stdout",
     "output_type": "stream",
     "text": [
      "<class 'list'>\n"
     ]
    },
    {
     "data": {
      "text/plain": [
       "0    [-10.249091,  -48.324286]\n",
       "1     [13.756465,  121.058308]\n",
       "2     [34.655146,  133.919502]\n",
       "Name: City Location, dtype: object"
      ]
     },
     "execution_count": 9,
     "metadata": {},
     "output_type": "execute_result"
    }
   ],
   "source": [
    "print(type(ghe['City Location'][1]))\n",
    "ghe['City Location'].head(3)"
   ]
  },
  {
   "cell_type": "markdown",
   "metadata": {},
   "source": [
    "Each observation now contains a list of length two, the first element being the latitude and the second being the longitude.\n",
    "\n",
    "Now we can create two seperate columns, based on the two elements each list of this series. To do this, we can loop through each observation and assign each index (0 or 1) to their respective latitude/longitude column."
   ]
  },
  {
   "cell_type": "code",
   "execution_count": 10,
   "metadata": {},
   "outputs": [],
   "source": [
    "# create 'Longitude' and 'Latitude' columns \n",
    "ghe['Latitude'] = [i[0] for i in ghe['City Location']] # each 0th element is the latitude\n",
    "ghe['Longitude'] = [j[1] for j in ghe['City Location']] # each 1st element is the longitude"
   ]
  },
  {
   "cell_type": "markdown",
   "metadata": {},
   "source": [
    "Let's compare these two new columns with the original 'City Location' column to make sure they contain the correct information"
   ]
  },
  {
   "cell_type": "code",
   "execution_count": 11,
   "metadata": {},
   "outputs": [
    {
     "name": "stdout",
     "output_type": "stream",
     "text": [
      "<class 'str'>\n",
      "<class 'str'>\n"
     ]
    },
    {
     "data": {
      "text/html": [
       "<div>\n",
       "<style scoped>\n",
       "    .dataframe tbody tr th:only-of-type {\n",
       "        vertical-align: middle;\n",
       "    }\n",
       "\n",
       "    .dataframe tbody tr th {\n",
       "        vertical-align: top;\n",
       "    }\n",
       "\n",
       "    .dataframe thead th {\n",
       "        text-align: right;\n",
       "    }\n",
       "</style>\n",
       "<table border=\"1\" class=\"dataframe\">\n",
       "  <thead>\n",
       "    <tr style=\"text-align: right;\">\n",
       "      <th></th>\n",
       "      <th>City Location</th>\n",
       "      <th>Latitude</th>\n",
       "      <th>Longitude</th>\n",
       "    </tr>\n",
       "  </thead>\n",
       "  <tbody>\n",
       "    <tr>\n",
       "      <th>0</th>\n",
       "      <td>[-10.249091,  -48.324286]</td>\n",
       "      <td>-10.249091</td>\n",
       "      <td>-48.324286</td>\n",
       "    </tr>\n",
       "    <tr>\n",
       "      <th>1</th>\n",
       "      <td>[13.756465,  121.058308]</td>\n",
       "      <td>13.756465</td>\n",
       "      <td>121.058308</td>\n",
       "    </tr>\n",
       "    <tr>\n",
       "      <th>2</th>\n",
       "      <td>[34.655146,  133.919502]</td>\n",
       "      <td>34.655146</td>\n",
       "      <td>133.919502</td>\n",
       "    </tr>\n",
       "  </tbody>\n",
       "</table>\n",
       "</div>"
      ],
      "text/plain": [
       "               City Location    Latitude    Longitude\n",
       "0  [-10.249091,  -48.324286]  -10.249091   -48.324286\n",
       "1   [13.756465,  121.058308]   13.756465   121.058308\n",
       "2   [34.655146,  133.919502]   34.655146   133.919502"
      ]
     },
     "execution_count": 11,
     "metadata": {},
     "output_type": "execute_result"
    }
   ],
   "source": [
    "print(type(ghe['Latitude'][1])) # print out the class of latitude column\n",
    "print(type(ghe['Longitude'][1])) # pring out the class of the longitude column\n",
    "ghe.loc[:,['City Location', 'Latitude', 'Longitude']].head(3) # compare 'city location' to 'longitude'/'latitude'"
   ]
  },
  {
   "cell_type": "markdown",
   "metadata": {},
   "source": [
    "The Latitude and Longitude columns contain the correct values, however, each are of the class 'str', so they will not be useful in making a scatterplot. Let's convert these columns to be numeric columns, so we can use them with our plotting functions."
   ]
  },
  {
   "cell_type": "code",
   "execution_count": 12,
   "metadata": {},
   "outputs": [
    {
     "name": "stdout",
     "output_type": "stream",
     "text": [
      "<class 'numpy.float64'>\n",
      "<class 'numpy.float64'>\n"
     ]
    }
   ],
   "source": [
    "ghe['Latitude'] = pd.to_numeric(ghe['Latitude']) \n",
    "ghe['Longitude'] = pd.to_numeric(ghe['Longitude'])\n",
    "print(type(ghe['Latitude'][1])) # print out the class of latitude column\n",
    "print(type(ghe['Longitude'][1])) # pring out the class of the longitude column"
   ]
  },
  {
   "cell_type": "markdown",
   "metadata": {},
   "source": [
    "Now our latitude and longitudes are floats, or continuous, numeric values.\n",
    "\n",
    "We have the spatial data we need for our data visualization, so let's start making plots."
   ]
  },
  {
   "cell_type": "markdown",
   "metadata": {},
   "source": [
    "<font color = '5780BC'>\n",
    "    \n",
    "### Part Two: Data Visualization"
   ]
  },
  {
   "cell_type": "markdown",
   "metadata": {},
   "source": [
    "Now that we have our data in the correct format, we can begin building our geospatial visualization. To get a basic idea of how our visualization works, let's make a simple scatter plot of longitude and latitude. We will use the Seaborn package scatterplot function to see a skeletal version of our visualization."
   ]
  },
  {
   "cell_type": "code",
   "execution_count": 13,
   "metadata": {},
   "outputs": [
    {
     "data": {
      "image/png": "[encoded data removed]",
      "text/plain": [
       "<Figure size 432x288 with 1 Axes>"
      ]
     },
     "metadata": {
      "needs_background": "light"
     },
     "output_type": "display_data"
    }
   ],
   "source": [
    "fig1 = sns.scatterplot(x = 'Longitude', y = 'Latitude', data = ghe)"
   ]
  },
  {
   "cell_type": "markdown",
   "metadata": {},
   "source": [
    "This plot vaguely resembles a world map, which is reasurring that our data's longitude and latitude are effective for geospatial visualization. However, this plot is rather bare and does not communicate anything about GHE. One way we can visualize a city's GHE is to change the size of their point on the scatterplot based on their C02 emissions. Our dataset has a column ('Total City-Wide Emissions (metric tonnes CO2e)') contains this information, so we can pass this information into the scatterplot's 'size' argument. "
   ]
  },
  {
   "cell_type": "code",
   "execution_count": 14,
   "metadata": {},
   "outputs": [
    {
     "data": {
      "text/plain": [
       "<matplotlib.legend.Legend at 0x1a243e43c8>"
      ]
     },
     "execution_count": 14,
     "metadata": {},
     "output_type": "execute_result"
    },
    {
     "data": {
      "image/png": "[encoded data removed]",
      "text/plain": [
       "<Figure size 432x288 with 1 Axes>"
      ]
     },
     "metadata": {
      "needs_background": "light"
     },
     "output_type": "display_data"
    }
   ],
   "source": [
    "fig2 = sns.scatterplot(x = 'Longitude', y = 'Latitude', size ='Total City-wide Emissions (metric tonnes CO2e)', data = ghe,\n",
    "                      )\n",
    "fig2.legend(bbox_to_anchor=(1.05, 1), loc=2, borderaxespad=0.) # this line of code just moves the legend out to the side"
   ]
  },
  {
   "cell_type": "markdown",
   "metadata": {},
   "source": [
    "Now, our plot not only displays the location of different cities, but how their C02 emssions compare to one another. This is a helpful layer of information, but we can further enhance this visualization by using color, as well as overlaying it on top of a world map. Let's start with coloring the points."
   ]
  },
  {
   "cell_type": "markdown",
   "metadata": {},
   "source": [
    "<font color = '5780BC'>\n",
    "    \n",
    "### Part Three: A Little More Data Cleaning/ Manipulation"
   ]
  },
  {
   "cell_type": "markdown",
   "metadata": {},
   "source": [
    "Our dataset includes information about whether a city has increased or decreased their emissions since the previous year."
   ]
  },
  {
   "cell_type": "code",
   "execution_count": 15,
   "metadata": {},
   "outputs": [
    {
     "data": {
      "text/plain": [
       "0    This is our first year of calculation\n",
       "1                                      NaN\n",
       "2                                      NaN\n",
       "3    This is our first year of calculation\n",
       "4    This is our first year of calculation\n",
       "5                                Decreased\n",
       "6                                Decreased\n",
       "7                                Decreased\n",
       "8                                      NaN\n",
       "9                                Increased\n",
       "Name: Increase/Decrease from last year, dtype: object"
      ]
     },
     "execution_count": 15,
     "metadata": {},
     "output_type": "execute_result"
    }
   ],
   "source": [
    "ghe['Increase/Decrease from last year'].head(10)"
   ]
  },
  {
   "cell_type": "markdown",
   "metadata": {},
   "source": [
    "We can color the points on our plot to based on the data in this column to communicate a city's efforts to reduce their GHE. First, however, we need to clean up this column before we can effectively use it. Let's summarize what's in this column to decide how we are going to communicate it.  "
   ]
  },
  {
   "cell_type": "code",
   "execution_count": 16,
   "metadata": {},
   "outputs": [
    {
     "data": {
      "text/plain": [
       "array(['This is our first year of calculation', nan, 'Decreased',\n",
       "       'Increased', 'Stayed the same', 'Other'], dtype=object)"
      ]
     },
     "execution_count": 16,
     "metadata": {},
     "output_type": "execute_result"
    }
   ],
   "source": [
    "ghe['Increase/Decrease from last year'].unique()"
   ]
  },
  {
   "cell_type": "markdown",
   "metadata": {},
   "source": [
    "If we consider this column as a factored variable, there are six levels. In reality, there are only three meaningful levels, though: 'Increased', 'Decreased', or 'Stayed the same'. The remaining three (nan, 'Other', and 'This is our first year of calculation'), really all tell us the same information, and could be consolidated to one level. To make the data in this column easier to use for our data visualization, let's consolidate these there factor levels into one. To do this, let's make a new column that transforms the information in 'Increase/Decrease from last year'."
   ]
  },
  {
   "cell_type": "markdown",
   "metadata": {},
   "source": [
    "In this new column, let's keep 'Increased',  'Decreased', and 'Stayed the same', but let's tranform any observation that says 'This is our first year of calculation', 'nan', or 'Other', into a new observation that says 'other'."
   ]
  },
  {
   "cell_type": "code",
   "execution_count": 17,
   "metadata": {},
   "outputs": [],
   "source": [
    "ghe['ghe_change_new'] = np.where(ghe['Increase/Decrease from last year'] == 'Increased', 'Increased',\n",
    "                                np.where(ghe['Increase/Decrease from last year'] == 'Decreased', 'Decreased',\n",
    "                                        np.where(ghe['Increase/Decrease from last year'] == 'Stayed the same', 'Stayed the same',\n",
    "                                                np.where((ghe['Increase/Decrease from last year'] == 'Other') | \n",
    "                                                        (ghe['Increase/Decrease from last year'] == 'This is our first year of calculation') | \n",
    "                                                        (ghe['Increase/Decrease from last year'].isnull() == True), 'Other', np.nan))))"
   ]
  },
  {
   "cell_type": "markdown",
   "metadata": {},
   "source": [
    "Let's summarize this new column and compare it to the column from which we did the transformation."
   ]
  },
  {
   "cell_type": "code",
   "execution_count": 18,
   "metadata": {},
   "outputs": [
    {
     "data": {
      "text/plain": [
       "array(['Other', 'Decreased', 'Increased', 'Stayed the same'], dtype=object)"
      ]
     },
     "execution_count": 18,
     "metadata": {},
     "output_type": "execute_result"
    }
   ],
   "source": [
    "ghe['ghe_change_new'].unique()"
   ]
  },
  {
   "cell_type": "code",
   "execution_count": 19,
   "metadata": {},
   "outputs": [
    {
     "name": "stdout",
     "output_type": "stream",
     "text": [
      "0        Other\n",
      "1        Other\n",
      "2        Other\n",
      "3        Other\n",
      "4        Other\n",
      "5    Decreased\n",
      "6    Decreased\n",
      "Name: ghe_change_new, dtype: object\n",
      "0    This is our first year of calculation\n",
      "1                                      NaN\n",
      "2                                      NaN\n",
      "3    This is our first year of calculation\n",
      "4    This is our first year of calculation\n",
      "5                                Decreased\n",
      "6                                Decreased\n",
      "Name: Increase/Decrease from last year, dtype: object\n"
     ]
    }
   ],
   "source": [
    "print(ghe['ghe_change_new'].head(7))\n",
    "print(ghe['Increase/Decrease from last year'].head(7))"
   ]
  },
  {
   "cell_type": "markdown",
   "metadata": {},
   "source": [
    "Great, now that we have simplified the information in this column, we can use it to color the points on our scatterplot. \n",
    "Here's a quick summary of what colors we want for each point:"
   ]
  },
  {
   "cell_type": "markdown",
   "metadata": {},
   "source": [
    "'Increase' = <font color = 'red'>\n",
    "Red"
   ]
  },
  {
   "cell_type": "markdown",
   "metadata": {},
   "source": [
    "'Decrease' = <font color = 'green'>\n",
    "Green"
   ]
  },
  {
   "cell_type": "markdown",
   "metadata": {},
   "source": [
    "'Stayed the same' = <font color = 'yellow'>\n",
    "__Yellow__"
   ]
  },
  {
   "cell_type": "markdown",
   "metadata": {},
   "source": [
    "'Other' = <font color = 'gray'>\n",
    "Gray"
   ]
  },
  {
   "cell_type": "code",
   "execution_count": 20,
   "metadata": {},
   "outputs": [
    {
     "data": {
      "text/plain": [
       "<matplotlib.legend.Legend at 0x1a244e7b38>"
      ]
     },
     "execution_count": 20,
     "metadata": {},
     "output_type": "execute_result"
    },
    {
     "data": {
      "image/png": "[encoded data removed]",
      "text/plain": [
       "<Figure size 432x288 with 1 Axes>"
      ]
     },
     "metadata": {
      "needs_background": "light"
     },
     "output_type": "display_data"
    }
   ],
   "source": [
    "fig2 = sns.scatterplot(x = 'Longitude', y = 'Latitude', size ='Total City-wide Emissions (metric tonnes CO2e)',\n",
    "                       hue = 'ghe_change_new', palette = ['gray', 'green', 'red', 'yellow'], data = ghe,\n",
    "                      )\n",
    "fig2.legend(bbox_to_anchor=(1.05, 1), loc=2, borderaxespad=0.) # this line of code jus"
   ]
  },
  {
   "cell_type": "markdown",
   "metadata": {},
   "source": [
    "Now, our plot communicates a city's location, its relative amount of emmisions, and whether its emissions increased or decreased since the previous year."
   ]
  },
  {
   "cell_type": "markdown",
   "metadata": {},
   "source": [
    "<font color = '5780BC'>\n",
    "\n",
    "### Part Four: Overlay Data Onto Map"
   ]
  },
  {
   "cell_type": "markdown",
   "metadata": {},
   "source": [
    "The last step of our data visualization is overlaying this scatterplot onto a world map. This will make our visualization much clearer and more effective. To do this, we will use the __Plotly__ package, which has some really powerful functionality to make these geospatial visualizations. Plotly also has interactive functionality, so you can hover over points and explore the figure in depth. "
   ]
  },
  {
   "cell_type": "code",
   "execution_count": 21,
   "metadata": {},
   "outputs": [],
   "source": [
    "# import the Plotly express package\n",
    "import plotly.graph_objects as go"
   ]
  },
  {
   "cell_type": "markdown",
   "metadata": {},
   "source": [
    "Since our GHE emissions ('Total City-Wide Emssions (metrics tonnes CO2e)') are measured on the order of tens of millions, we need to scale down these values, so they will fit on our figure.\n",
    "\n",
    "To scale our data, Plotly reccomends using this code to get our size reference:\n",
    "\n",
    "<font color = 'royalblue'> sizeref = 2. * max(array of size values) / (desired maximum marker size ** 2)\n",
    "    \n",
    "<font color = 'black'> The 'desired maximum marker' size is determined by the user. You'll have to plot some points on a plotly scatterplot to determine what size looks best as a maximum on your graph. After trying out some values, I figured decided 30 was a good maximum.  "
   ]
  },
  {
   "cell_type": "code",
   "execution_count": 22,
   "metadata": {},
   "outputs": [],
   "source": [
    "sizes = ghe['Total City-wide Emissions (metric tonnes CO2e)'] # get array of data \n",
    "sizeref = 2. * max(sizes) / (30 ** 2) # after trying a few marker sizes, 30 looked like the best as a max size\n",
    "sizes = (ghe['Total City-wide Emissions (metric tonnes CO2e)']/ sizeref) # divide emissions by size reference to scale data"
   ]
  },
  {
   "cell_type": "code",
   "execution_count": 23,
   "metadata": {},
   "outputs": [],
   "source": [
    "# save these values in a new column in the ghe dataframe\n",
    "ghe['sizes'] = sizes"
   ]
  },
  {
   "cell_type": "markdown",
   "metadata": {},
   "source": [
    "In this figure, we are plotting points whose colors change based on whether they increased or decreased their emissions. In order to change the colors in this way, Plotly needs a column to look at to assign these varying colors, so we need to create a new colum that assigns a color to an observation, based on whether they increased/ decreased emissions. "
   ]
  },
  {
   "cell_type": "code",
   "execution_count": 24,
   "metadata": {},
   "outputs": [],
   "source": [
    "# get list of colors (I chose these html codes on https://htmlcolorcodes.com/color-picker/)\n",
    "colors = ['#FFC300', # yellow\n",
    "          '#84AD61', # green\n",
    "         '#FF5733', # red\n",
    "         '#CAC9C1'] # gray\n",
    "\n",
    "# now make new column that assigns color based on whether ghe increased, decreased, etc.\n",
    "ghe['colors'] = np.where(ghe['ghe_change_new'] == 'Other', colors[3],\n",
    "                        np.where(ghe['ghe_change_new'] == 'Decreased', colors[1],\n",
    "                                np.where(ghe['ghe_change_new'] == 'Increased', colors[2],\n",
    "                                        np.where(ghe['ghe_change_new'] == 'Stayed the same', colors[0], colors[0])\n",
    "                                        )\n",
    "                                )\n",
    "                        )"
   ]
  },
  {
   "cell_type": "markdown",
   "metadata": {},
   "source": [
    "The basic work flow for a plot like ours, where we have different colors that mean different things, looks like this:\n",
    "- Initialize plot\n",
    "- Add layer one \n",
    "- Add layer two\n",
    "- Repeat until all layers (colors) are on plot"
   ]
  },
  {
   "cell_type": "markdown",
   "metadata": {},
   "source": [
    "We'll want a legend that indicates what each of these layers means, so we let's make a list that we can refer to in our plot function. "
   ]
  },
  {
   "cell_type": "code",
   "execution_count": 25,
   "metadata": {},
   "outputs": [],
   "source": [
    "# make a list of names for the legend\n",
    "plotlegend = ['Increased', 'Decreased', 'Stayed the same', 'Other']"
   ]
  },
  {
   "cell_type": "markdown",
   "metadata": {},
   "source": [
    "We'll also want to split up our data by these different trace layers (in this case, colors), so we can easily add each to our plot one at a time. "
   ]
  },
  {
   "cell_type": "code",
   "execution_count": 26,
   "metadata": {},
   "outputs": [],
   "source": [
    "# split up the data based on the different traces in our legend \n",
    "ghe_green = ghe.loc[ghe['colors'] == colors[1], :] # green (decreased GHE)\n",
    "ghe_red = ghe.loc[ghe['colors'] == colors[2], :] # red (increased GHE)\n",
    "ghe_yellow = ghe.loc[ghe['colors'] == colors[0], :] # yellow (GHE stayed the same)\n",
    "ghe_gray = ghe.loc[ghe['colors'] == colors[3], :] # gray (Other)"
   ]
  },
  {
   "cell_type": "markdown",
   "metadata": {},
   "source": [
    "<font color = '5780BC'>\n",
    "\n",
    "# The Final Product"
   ]
  },
  {
   "cell_type": "markdown",
   "metadata": {},
   "source": [
    "Now it's time to make our map. I've annotated the arguments with comments."
   ]
  },
  {
   "cell_type": "code",
   "execution_count": 30,
   "metadata": {},
   "outputs": [
    {
     "data": {
      "application/vnd.plotly.v1+json": {
       "config": {
        "plotlyServerURL": "https://plot.ly"
       },
       "data": [
        {
         "lat": [
          46.0667,
          45.508669899999994,
          60.451812600000004,
          45.433251500000004,
          35.6896342,
          37.019355,
          24.702107,
          47.36864979999999,
          22.629704999999998,
          35.1992,
          32.718146000000004,
          42.331427000000005,
          41.8781136
         ],
         "locationmode": "ISO-3",
         "lon": [
          13.2333,
          -73.5539925,
          22.266630300000003,
          12.3210704,
          139.6921007,
          -7.930439999999999,
          121.73775,
          8.539182499999999,
          120.343804,
          -111.6311,
          -117.1701,
          -83.0457538,
          -87.62979820000001
         ],
         "marker": {
          "color": [
           "#FFC300",
           "#FFC300",
           "#FFC300",
           "#FFC300",
           "#FFC300",
           "#FFC300",
           "#FFC300",
           "#FFC300",
           "#FFC300",
           "#FFC300",
           "#FFC300",
           "#FFC300",
           "#FFC300"
          ],
          "size": [
           3.937463101604278,
           88.06165989304812,
           7.1069518716577535,
           9.101672727272726,
           450,
           0.0017059893048128342,
           52.49555088770053,
           11.69433368983957,
           377.0423366631016,
           7.775085368983957,
           81.01108235294117,
           66.2844192513369,
           214.97326203208556
          ],
          "sizemode": "area"
         },
         "name": "GHE Stayed the same",
         "text": [
          "Udine, Italy<br>0.613588 million tonnes C02e",
          "Montreal, Canada<br>13.722942 million tonnes C02e",
          "Turku, Finland<br>1.1075 million tonnes C02e",
          "Venezia, Italy<br>1.418344 million tonnes C02e",
          "Tokyo, Japan<br>70.125 million tonnes C02e",
          "Faro, Portugal<br>0.00026585000000000004 million tonnes C02e",
          "Yilan , Taiwan<br>8.18055668 million tonnes C02e",
          "Stadt Zürich, Switzerland<br>1.822367 million tonnes C02e",
          "Kaohsiung, Taiwan<br>58.75576413 million tonnes C02e",
          "Flagstaff, USA<br>1.21161747 million tonnes C02e",
          "San Diego, USA<br>12.624227 million tonnes C02e",
          "Detroit, USA<br>10.329322 million tonnes C02e",
          "Chicago, USA<br>33.5 million tonnes C02e"
         ],
         "type": "scattergeo"
        },
        {
         "lat": [
          -29.8586804,
          -35.3075,
          -19.916681,
          -25.431063,
          -27.594988399999995,
          -22.9054389,
          43.850854999999996,
          53.544389,
          42.9837,
          -6.5971470000000005,
          22.288080899999997,
          64.12652,
          35.4437078,
          37.263572700000005,
          22.173333,
          51.9163716,
          -36.815328,
          59.913868799999996,
          14.559004000000002,
          38.660815,
          24.993628,
          -25.746111,
          37.456255999999996,
          25.0111,
          22.551976,
          25.037525,
          51.504858,
          33.7489954,
          38.049365,
          38.9071923,
          36.169941200000004,
          44.983334,
          40.7127837,
          37.8044,
          10.469640400000001,
          -15.794229000000001
         ],
         "locationmode": "ISO-3",
         "lon": [
          31.0218404,
          149.1244,
          -43.934492999999996,
          -49.264693,
          -48.54817429999999,
          -43.5614471,
          -79.02037299999999,
          -113.4909267,
          -81.2497,
          106.80603899999998,
          114.13980149999999,
          -21.817439999999998,
          139.6380256,
          127.02860090000001,
          -100.97005,
          4.4509382,
          174.74178799999999,
          10.7522454,
          121.08163200000001,
          -9.079072,
          121.30098000000001,
          28.188056,
          126.705206,
          121.4458,
          120.54876000000002,
          121.563782,
          -0.078689,
          -84.3879824,
          -122.1585777,
          -77.03687070000001,
          -115.13982959999998,
          -93.26666999999999,
          -74.00594129999999,
          -122.2708,
          -66.8037185,
          -47.882166
         ],
         "marker": {
          "color": [
           "#FF5733",
           "#FF5733",
           "#FF5733",
           "#FF5733",
           "#FF5733",
           "#FF5733",
           "#FF5733",
           "#FF5733",
           "#FF5733",
           "#FF5733",
           "#FF5733",
           "#FF5733",
           "#FF5733",
           "#FF5733",
           "#FF5733",
           "#FF5733",
           "#FF5733",
           "#FF5733",
           "#FF5733",
           "#FF5733",
           "#FF5733",
           "#FF5733",
           "#FF5733",
           "#FF5733",
           "#FF5733",
           "#FF5733",
           "#FF5733",
           "#FF5733",
           "#FF5733",
           "#FF5733",
           "#FF5733",
           "#FF5733",
           "#FF5733",
           "#FF5733",
           "#FF5733",
           "#FF5733"
          ],
          "size": [
           144.94383529411763,
           25.693475935828875,
           20.802436363636364,
           19.48414331550802,
           9.307796791443849,
           130.06232085561496,
           3.4577711229946524,
           106.37455828877005,
           19.700534759358288,
           14.076847058823528,
           274.01069518716577,
           2.2243636363636363,
           140.85561497326202,
           37.05981818181818,
           8.474630951871656,
           202.21604278074864,
           67.20099465240641,
           8.601638502673795,
           10.6547807486631,
           1.8664106951871657,
           192.98664551871659,
           97.77557005347593,
           447.8768342245989,
           110.5920256684492,
           29.549550802139034,
           95.98334117647059,
           257.903743315508,
           57.9095294117647,
           4.4195037433155075,
           47.399403208556144,
           190.31313368983956,
           30.76817967914438,
           316.91235080213903,
           17.542228877005346,
           114.06273368983956,
           4.966735828877005
          ],
          "sizemode": "area"
         },
         "name": "GHE Increased",
         "text": [
          "Durban, South Africa<br>22.587081 million tonnes C02e",
          "Canberra, Australia<br>4.0039 million tonnes C02e",
          "Belo Horizonte, Brazil<br>3.241713 million tonnes C02e",
          "Curitiba, Brazil<br>3.036279 million tonnes C02e",
          "Florianópolis, Brazil<br>1.450465 million tonnes C02e",
          "Rio de Janeiro, Brazil<br>20.268045 million tonnes C02e",
          "Ajax, ON, Canada<br>0.538836 million tonnes C02e",
          "Edmonton, Canada<br>16.576702 million tonnes C02e",
          "London, ON, Canada<br>3.07 million tonnes C02e",
          "Bogor , Indonesia<br>2.193642 million tonnes C02e",
          "Hong Kong, Hong Kong<br>42.7 million tonnes C02e",
          "Reykjavík, Iceland<br>0.34663 million tonnes C02e",
          "Yokohama, Japan<br>21.95 million tonnes C02e",
          "Suwon , South Korea<br>5.775155 million tonnes C02e",
          "San Luis Potosí, Mexico<br>1.32062999 million tonnes C02e",
          "Rotterdam, Netherlands<br>31.512 million tonnes C02e",
          "Auckland , New Zealand<br>10.472155 million tonnes C02e",
          "Oslo, Norway<br>1.340422 million tonnes C02e",
          "Makati, Philippines<br>1.66037 million tonnes C02e",
          "Barreiro, Portugal<br>0.290849 million tonnes C02e",
          "Taoyuan , Taiwan<br>30.073752260000003 million tonnes C02e",
          "Pretoria - Tshwane, South Africa<br>15.236693 million tonnes C02e",
          "Incheon , South Korea<br>69.79414 million tonnes C02e",
          "New Taipei , Taiwan<br>17.233924 million tonnes C02e",
          "Pingtung , Taiwan<br>4.604805 million tonnes C02e",
          "Taipei City, Taiwan<br>14.957404 million tonnes C02e",
          "London , United Kingdom<br>40.19 million tonnes C02e",
          "Atlanta, USA<br>9.024235 million tonnes C02e",
          "Benicia, USA<br>0.688706 million tonnes C02e",
          "District of Columbia, USA<br>7.386407 million tonnes C02e",
          "Las Vegas, USA<br>29.65713 million tonnes C02e",
          "Minneapolis, USA<br>4.794708 million tonnes C02e",
          "New York City, USA<br>49.385508 million tonnes C02e",
          "Oakland, USA<br>2.733664 million tonnes C02e",
          "Alcaldía Metropolitana de Caracas, Venezuela<br>17.774776 million tonnes C02e",
          "Brasília, Brazil<br>0.773983 million tonnes C02e"
         ],
         "type": "scattergeo"
        },
        {
         "lat": [
          44.0519,
          -33.9253,
          4.598056,
          45.52,
          54.891456000000005,
          37.6808,
          48.856614,
          37.271,
          -34.603723200000005,
          -34.928499,
          -37.814107,
          49.398752,
          -33.8674869,
          44.48560870000001,
          51.048615000000005,
          49.8997541,
          57.456779000000004,
          43.653226000000004,
          53.5510846,
          43.250021000000004,
          55.656328,
          -0.2333,
          49.261226,
          55.676096799999996,
          55.733461,
          60.17332439999999,
          30.2672,
          60.9833,
          35.994,
          -6.2087634000000005,
          44.8357395,
          45.100637400000004,
          38.3434574,
          41.913028000000004,
          41.8723889,
          35.181446,
          41.30284,
          54.68715600000001,
          19.4326077,
          52.370216,
          37.831315999999994,
          37.6689,
          26.661763,
          52.2296756,
          40.107625299999995,
          38.6970565,
          38.722252399999995,
          41.1579438,
          -26.2041028,
          38.544907,
          41.6611,
          59.3293235,
          47.5619,
          46.5198,
          39.195,
          33.8622,
          52.480174,
          39.9611755,
          50.719164,
          51.481581,
          52.6333,
          44.475882500000004,
          32.780139899999995,
          53.4575955,
          40.12408,
          37.226486,
          40.9414,
          39.737567,
          35.9606,
          42.358430799999994,
          39.7047,
          37.3797,
          34.0522342,
          36.1627,
          37.4419,
          39.952335,
          37.8244,
          38.6270025,
          40.440624799999995,
          37.540725,
          34.0219,
          47.6062095,
          32.2217,
          41.608629
         ],
         "locationmode": "ISO-3",
         "lon": [
          -123.0867,
          18.4239,
          -74.07583299999999,
          -122.6819,
          10.404684,
          -122.4,
          2.3522218999999995,
          -79.9414,
          -58.381593099999996,
          138.600746,
          144.96328,
          8.672433999999999,
          151.20699019999998,
          11.3547975,
          -114.070846,
          -97.13749370000001,
          9.995764,
          -79.3831843,
          9.993681800000001,
          -79.866091,
          12.2898,
          -78.5167,
          -123.11392679999999,
          12.568337099999999,
          12.488686,
          24.9410248,
          -97.7431,
          25.65,
          -78.8986,
          106.84559899999999,
          11.6189949,
          7.668004600000001,
          26.553613000000002,
          12.518037,
          12.4801802,
          136.906398,
          -8.65731,
          25.279651,
          -99.133208,
          4.895168,
          -122.285247,
          -122.0808,
          -80.268357,
          21.012228699999998,
          -3.3875672999999997,
          -9.422294500000001,
          -9.1393366,
          -8.6291053,
          28.047305100000003,
          -121.740517,
          -91.5302,
          18.068580800000003,
          7.5928,
          6.6335,
          -106.837,
          -118.3995,
          -1.902907,
          -82.9987942,
          -1.880769,
          -3.17909,
          -1.1333,
          -73.21207199999999,
          -96.80045109999999,
          -2.1578377,
          -75.119511,
          -76.00259399999999,
          -73.8644,
          -104.9847179,
          -83.9207,
          -71.05977320000001,
          -105.0814,
          -122.1375,
          -118.24368490000002,
          -86.7816,
          -122.14299999999999,
          -75.16378900000001,
          -122.2316,
          -90.1994042,
          -79.9958864,
          -77.436048,
          -118.4814,
          -122.33207079999998,
          -110.9265,
          -0.8870120000000001
         ],
         "marker": {
          "color": [
           "#84AD61",
           "#84AD61",
           "#84AD61",
           "#84AD61",
           "#84AD61",
           "#84AD61",
           "#84AD61",
           "#84AD61",
           "#84AD61",
           "#84AD61",
           "#84AD61",
           "#84AD61",
           "#84AD61",
           "#84AD61",
           "#84AD61",
           "#84AD61",
           "#84AD61",
           "#84AD61",
           "#84AD61",
           "#84AD61",
           "#84AD61",
           "#84AD61",
           "#84AD61",
           "#84AD61",
           "#84AD61",
           "#84AD61",
           "#84AD61",
           "#84AD61",
           "#84AD61",
           "#84AD61",
           "#84AD61",
           "#84AD61",
           "#84AD61",
           "#84AD61",
           "#84AD61",
           "#84AD61",
           "#84AD61",
           "#84AD61",
           "#84AD61",
           "#84AD61",
           "#84AD61",
           "#84AD61",
           "#84AD61",
           "#84AD61",
           "#84AD61",
           "#84AD61",
           "#84AD61",
           "#84AD61",
           "#84AD61",
           "#84AD61",
           "#84AD61",
           "#84AD61",
           "#84AD61",
           "#84AD61",
           "#84AD61",
           "#84AD61",
           "#84AD61",
           "#84AD61",
           "#84AD61",
           "#84AD61",
           "#84AD61",
           "#84AD61",
           "#84AD61",
           "#84AD61",
           "#84AD61",
           "#84AD61",
           "#84AD61",
           "#84AD61",
           "#84AD61",
           "#84AD61",
           "#84AD61",
           "#84AD61",
           "#84AD61",
           "#84AD61",
           "#84AD61",
           "#84AD61",
           "#84AD61",
           "#84AD61",
           "#84AD61",
           "#84AD61",
           "#84AD61",
           "#84AD61",
           "#84AD61",
           "#84AD61"
          ],
          "size": [
           8.02139037433155,
           145.30810267379678,
           79.31117345454544,
           44.75643208556149,
           0.0014438502673796792,
           0.9498930481283422,
           33.34115294117647,
           12.652485561497326,
           126.20616898395721,
           3.1221882352941175,
           28.058310160427805,
           5.646417112299465,
           22.82264598930481,
           14.570211978609626,
           116.8378524064171,
           33.736844919786094,
           2.675935828877005,
           117.56769625668448,
           0.11393582887700535,
           105.68523850267378,
           1.9058823529411764,
           33.58299465240641,
           15.674451336898395,
           9.307110160427808,
           2.323495187165775,
           17.90197219251337,
           87.91443850267379,
           4.398673796791444,
           29.072528342245988,
           178.26737967914437,
           10.155754844919784,
           22.435225668449196,
           0.002847850267379679,
           0.07327700534759359,
           64.22810053475935,
           86.11764705882352,
           0.6193026737967914,
           12.79931550802139,
           151.797503486631,
           28.690909090909088,
           1.0763294117647058,
           6.729651336898395,
           6.962432085561497,
           75.21994010695187,
           65.82062887700535,
           3.6281197860962564,
           12.413011764705882,
           6.545454545454545,
           158.6099229946524,
           2.235381818181818,
           8.33339037433155,
           16.11336898395722,
           5.684778609625668,
           3.2058160427807483,
           2.530530481283422,
           0.8124770053475935,
           0.03336705882352941,
           70.48299465240642,
           5.022352941176471,
           13.65561497326203,
           11.034866310160426,
           2.601402994652406,
           110.56291764705881,
           95.54642566844919,
           3.947961497326203,
           15.918930481283422,
           8.012727272727272,
           57.381818181818176,
           25.667640641711227,
           38.92737112299465,
           11.08787165775401,
           0.36733475935828874,
           186.2554459893048,
           78.77547593582887,
           0.9794502673796791,
           123.29114477005346,
           0.278772192513369,
           55.85248633155079,
           30.821685561497326,
           20.22993368983957,
           4.526906951871657,
           33.510160427807484,
           42.73219893048128,
           11.458419786096256
          ],
          "sizemode": "area"
         },
         "name": "GHE Decreased",
         "text": [
          "Eugene, USA<br>1.25 million tonnes C02e",
          "Cape Town, South Africa<br>22.643846 million tonnes C02e",
          "Bogotá , Colombia<br>12.359324529999999 million tonnes C02e",
          "Portland, OR, USA<br>6.974544 million tonnes C02e",
          "City of Ærøskøbing, Denmark<br>0.000225 million tonnes C02e",
          "Brisbane, CA, USA<br>0.148025 million tonnes C02e",
          "Paris, France<br>5.195663 million tonnes C02e",
          "Roanoke, USA<br>1.971679 million tonnes C02e",
          "Buenos Aires, Argentina<br>19.667128 million tonnes C02e",
          "Adelaide, Australia<br>0.486541 million tonnes C02e",
          "Melbourne, Australia<br>4.37242 million tonnes C02e",
          "Stadt Heidelberg, Germany<br>0.8799 million tonnes C02e",
          "Sydney, Australia<br>3.556529 million tonnes C02e",
          "Bologna, Italy<br>2.2705247 million tonnes C02e",
          "Calgary, Canada<br>18.207232 million tonnes C02e",
          "City of Winnipeg, Canada<br>5.257325 million tonnes C02e",
          "Hjørring, Denmark<br>0.417 million tonnes C02e",
          "Toronto, Canada<br>18.320966 million tonnes C02e",
          "Hamburg, Germany<br>0.017755 million tonnes C02e",
          "Hamilton, Canada<br>16.469283 million tonnes C02e",
          "Hoeje-Taastrup Kommune, Denmark<br>0.297 million tonnes C02e",
          "Distrito Metropolitano de Quito, Ecuador<br>5.23335 million tonnes C02e",
          "Vancouver, Canada<br>2.442602 million tonnes C02e",
          "Copenhagen, Denmark<br>1.450358 million tonnes C02e",
          "Gladsaxe Kommune, Denmark<br>0.362078 million tonnes C02e",
          "Helsinki, Finland<br>2.789724 million tonnes C02e",
          "Austin, USA<br>13.7 million tonnes C02e",
          "Lahti, Finland<br>0.68546 million tonnes C02e",
          "Durham, USA<br>4.530469 million tonnes C02e",
          "Jakarta , Indonesia<br>27.78 million tonnes C02e",
          "Ferrara, Italy<br>1.58260513 million tonnes C02e",
          "Torino, Italy<br>3.496156 million tonnes C02e",
          "Kadiovacik, Turkey<br>0.00044379 million tonnes C02e",
          "Ravenna, Italy<br>0.011419 million tonnes C02e",
          "Roma , Italy<br>10.008879 million tonnes C02e",
          "Nagoya, Japan<br>13.42 million tonnes C02e",
          "Moita, Portugal<br>0.096508 million tonnes C02e",
          "Vilnius , Lithuania<br>1.99456 million tonnes C02e",
          "Mexico City, Mexico<br>23.655110960000002 million tonnes C02e",
          "Amsterdam, Netherlands<br>4.471 million tonnes C02e",
          "Emeryville, CA, USA<br>0.167728 million tonnes C02e",
          "Hayward, USA<br>1.048704 million tonnes C02e",
          "Wellington, New Zealand<br>1.084979 million tonnes C02e",
          "Warsaw, Poland<br>11.721774 million tonnes C02e",
          "Madrid, Spain<br>10.257048 million tonnes C02e",
          "Cascais, Portugal<br>0.565382 million tonnes C02e",
          "Lisbon, Portugal<br>1.934361 million tonnes C02e",
          "Porto, Portugal<br>1.02 million tonnes C02e",
          "Johannesburg, South Africa<br>24.716713 million tonnes C02e",
          "Davis, CA, USA<br>0.348347 million tonnes C02e",
          "Iowa , USA<br>1.29862 million tonnes C02e",
          "Stockholm, Sweden<br>2.511 million tonnes C02e",
          "Basel-Stadt, Switzerland<br>0.885878 million tonnes C02e",
          "Lausanne, Switzerland<br>0.499573 million tonnes C02e",
          "Aspen and Pitkin County, USA<br>0.394341 million tonnes C02e",
          "Hermosa Beach, CA, USA<br>0.126611 million tonnes C02e",
          "Birmingham, United Kingdom<br>0.0051997 million tonnes C02e",
          "Columbus, USA<br>10.9836 million tonnes C02e",
          "Bournemouth, United Kingdom<br>0.78265 million tonnes C02e",
          "Cardiff, United Kingdom<br>2.128 million tonnes C02e",
          "Leicester, United Kingdom<br>1.7196 million tonnes C02e",
          "Burlington, USA<br>0.4053853 million tonnes C02e",
          "Dallas, USA<br>17.229388 million tonnes C02e",
          "Manchester, United Kingdom<br>14.889318 million tonnes C02e",
          "Abington , USA<br>0.615224 million tonnes C02e",
          "Arlington, VA, USA<br>2.4807 million tonnes C02e",
          "Yonkers, USA<br>1.24865 million tonnes C02e",
          "Denver, USA<br>8.942 million tonnes C02e",
          "Knoxville, USA<br>3.999874 million tonnes C02e",
          "Boston, USA<br>6.066182 million tonnes C02e",
          "Lakewood, USA<br>1.72786 million tonnes C02e",
          "Los Altos Hills, USA<br>0.057243 million tonnes C02e",
          "Los Angeles, USA<br>29.024807 million tonnes C02e",
          "Nashville and Davidson , USA<br>12.275845 million tonnes C02e",
          "Palo Alto, USA<br>0.152631 million tonnes C02e",
          "Philadelphia, USA<br>19.21287006 million tonnes C02e",
          "Piedmont, CA, USA<br>0.043442 million tonnes C02e",
          "St Louis, USA<br>8.703679119999999 million tonnes C02e",
          "Pittsburgh, USA<br>4.803046 million tonnes C02e",
          "Richmond, VA, USA<br>3.152498 million tonnes C02e",
          "Santa Monica, USA<br>0.705443 million tonnes C02e",
          "Seattle, USA<br>5.222 million tonnes C02e",
          "Tucson, USA<br>6.659101 million tonnes C02e",
          "Zaragoza, Spain<br>1.78560375 million tonnes C02e"
         ],
         "type": "scattergeo"
        },
        {
         "lat": [
          -10.249091,
          13.756464999999999,
          34.655146,
          42.258634,
          38.890603999999996,
          3.451647,
          34.385203000000004,
          56.168393,
          43.710173,
          52.08889,
          35.2141598,
          37.98381,
          -16.686891199999998,
          -3.6727220000000003,
          -33.448890000000006,
          42.314937,
          -8.057838,
          -12.97304,
          -2.170998,
          9.028874,
          49.32699,
          44.309058,
          37.566534999999995,
          48.692054,
          53.34447900000001,
          44.347961,
          45.802578000000004,
          31.945366999999997,
          45.0519969,
          -12.046374,
          29.4241,
          -22.808027,
          46.056946999999994,
          6.524379,
          40.575302,
          39.236669,
          38.763669,
          39.767625,
          29.760192699999998,
          40.0274,
          42.6526,
          39.2903848,
          37.2296,
          41.499320000000004,
          40.037875,
          38.6682,
          29.9511,
          32.0835,
          34.09,
          39.5296,
          37.7749295,
          42.393449,
          -16.5,
          -23.4774899
         ],
         "locationmode": "ISO-3",
         "lon": [
          -48.324286,
          121.05830800000001,
          133.919502,
          -87.840625,
          -90.184276,
          -76.53198499999999,
          132.45529299999998,
          10.137373,
          7.261953,
          11.586164,
          33.294754100000006,
          23.727539,
          -49.2647943,
          -45.3831,
          -70.669265,
          -83.036363,
          -34.882897,
          -38.502303999999995,
          -79.922359,
          38.754366,
          -123.07328000000001,
          -78.31974699999999,
          126.9779692,
          6.184417,
          -6.270843,
          9.318415,
          9.086356,
          35.928371999999996,
          9.6926451,
          -77.042793,
          -98.4936,
          -45.19422,
          14.505751,
          3.379206,
          -8.445822,
          -8.685994,
          -9.30148,
          -86.17846899999999,
          -95.36938959999999,
          -105.2519,
          -73.7562,
          -76.6121893,
          -80.4139,
          -81.6943605,
          -76.305514,
          -90.3325,
          -90.0715,
          -81.0998,
          -118.3617,
          -119.8138,
          -122.4194155,
          -71.082647,
          -68.15,
          -47.4220615
         ],
         "marker": {
          "color": [
           "#CAC9C1",
           "#CAC9C1",
           "#CAC9C1",
           "#CAC9C1",
           "#CAC9C1",
           "#CAC9C1",
           "#CAC9C1",
           "#CAC9C1",
           "#CAC9C1",
           "#CAC9C1",
           "#CAC9C1",
           "#CAC9C1",
           "#CAC9C1",
           "#CAC9C1",
           "#CAC9C1",
           "#CAC9C1",
           "#CAC9C1",
           "#CAC9C1",
           "#CAC9C1",
           "#CAC9C1",
           "#CAC9C1",
           "#CAC9C1",
           "#CAC9C1",
           "#CAC9C1",
           "#CAC9C1",
           "#CAC9C1",
           "#CAC9C1",
           "#CAC9C1",
           "#CAC9C1",
           "#CAC9C1",
           "#CAC9C1",
           "#CAC9C1",
           "#CAC9C1",
           "#CAC9C1",
           "#CAC9C1",
           "#CAC9C1",
           "#CAC9C1",
           "#CAC9C1",
           "#CAC9C1",
           "#CAC9C1",
           "#CAC9C1",
           "#CAC9C1",
           "#CAC9C1",
           "#CAC9C1",
           "#CAC9C1",
           "#CAC9C1",
           "#CAC9C1",
           "#CAC9C1",
           "#CAC9C1",
           "#CAC9C1",
           "#CAC9C1",
           "#CAC9C1",
           "#CAC9C1",
           "#CAC9C1"
          ],
          "size": [
           4.013208064171122,
           2.934468449197861,
           44.3807486631016,
           2.582014973262032,
           2.573768983957219,
           26.78892834224599,
           55.67125347593583,
           0.012192513368983957,
           21.511148663101604,
           8.983957219251336,
           4.868194652406417,
           30.23471229946524,
           12.938951871657753,
           18.154832085561495,
           148.3638147593583,
           15.886864171122994,
           0.012083422459893047,
           23.736667379679144,
           43.555341176470584,
           23.796526203208554,
           1.2631443850267379,
           1.8164342245989304,
           305.53581176470584,
           13.796791443850266,
           18.88138395721925,
           11.617347593582886,
           38.35366203208556,
           46.30207700534759,
           3.9494245989304813,
           99.02955080213903,
           100.97173475935828,
           3.517835165775401,
           13.346040641711229,
           188.8316534759358,
           1.6612748663101604,
           2.1286652406417113,
           1.6705732620320854,
           13.863304684491977,
           214.5131614973262,
           11.050241711229946,
           7.810209625668449,
           48.63621818181818,
           2.4625485561497324,
           76.29686631016042,
           2.3471422459893048,
           3.215916577540107,
           29.252887700534757,
           23.16286203208556,
           3.742543315508021,
           28.476994652406415,
           34.53488983957219,
           3.762404278074866,
           9.154227593582888,
           7.148477005347593
          ],
          "sizemode": "area"
         },
         "name": "Other",
         "text": [
          "Palmas, Brazil<br>0.62539159 million tonnes C02e",
          "Batangas, Philippines<br>0.457288 million tonnes C02e",
          "Okayama, Japan<br>6.916 million tonnes C02e",
          "Lake Forest, IL, USA<br>0.402364 million tonnes C02e",
          "Alton, IL, USA<br>0.401079 million tonnes C02e",
          "Santiago de Cali, Colombia<br>4.174608 million tonnes C02e",
          "Hiroshima, Japan<br>8.675437 million tonnes C02e",
          "Aarhus Kommune, Denmark<br>0.0019 million tonnes C02e",
          "Nice Côte d'Azur, France<br>3.352154 million tonnes C02e",
          "Landeshauptstadt Magdeburg, Germany<br>1.4 million tonnes C02e",
          "Bornova , Turkey<br>0.758627 million tonnes C02e",
          "Athens, Greece<br>4.711576 million tonnes C02e",
          "Goiânia, Brazil<br>2.01632 million tonnes C02e",
          "Porto Alegre, Brazil<br>2.829128 million tonnes C02e",
          "Región Metropolitana de Santiago, Chile<br>23.1200278 million tonnes C02e",
          "Windsor, Canada<br>2.475703 million tonnes C02e",
          "Recife, Brazil<br>0.001883 million tonnes C02e",
          "Salvador, Brazil<br>3.698964 million tonnes C02e",
          "Santiago de Guayaquil, Ecuador<br>6.787374 million tonnes C02e",
          "Addis Ababa, Ethiopia<br>3.708292 million tonnes C02e",
          "North Vancouver, Canada<br>0.19684 million tonnes C02e",
          "Peterborough, Canada<br>0.283061 million tonnes C02e",
          "Seoul , South Korea<br>47.612664 million tonnes C02e",
          "Communauté urbaine du Grand Nancy, France<br>2.15 million tonnes C02e",
          "Dublin, Ireland<br>2.942349 million tonnes C02e",
          "Genova, Italy<br>1.81037 million tonnes C02e",
          "Milano, Italy<br>5.976779 million tonnes C02e",
          "Amman , Jordan<br>7.215407 million tonnes C02e",
          "Piacenza, Italy<br>0.615452 million tonnes C02e",
          "Lima, Peru<br>15.432105 million tonnes C02e",
          "San Antonio, USA<br>15.734762 million tonnes C02e",
          "Guaratinguetá, Brazil<br>0.54819598 million tonnes C02e",
          "Ljubljana, Slovenia<br>2.079758 million tonnes C02e",
          "Lagos, Nigeria<br>29.426266 million tonnes C02e",
          "Águeda, Portugal<br>0.258882 million tonnes C02e",
          "Santarém, Portugal<br>0.331717 million tonnes C02e",
          "Torres Vedras , Portugal<br>0.260331 million tonnes C02e",
          "Indianapolis, USA<br>2.1603649799999998 million tonnes C02e",
          "Houston, USA<br>33.428301 million tonnes C02e",
          "Boulder, USA<br>1.721996 million tonnes C02e",
          "Albany, USA<br>1.217091 million tonnes C02e",
          "Baltimore, USA<br>7.579144 million tonnes C02e",
          "Blacksburg, USA<br>0.38374715000000004 million tonnes C02e",
          "Cleveland, USA<br>11.889595 million tonnes C02e",
          "Lancaster, PA, USA<br>0.365763 million tonnes C02e",
          "University City, MO, USA<br>0.501147 million tonnes C02e",
          "New Orleans, USA<br>4.558575 million tonnes C02e",
          "Savannah, USA<br>3.609546 million tonnes C02e",
          "West Hollywood, USA<br>0.583213 million tonnes C02e",
          "Reno, USA<br>4.437665 million tonnes C02e",
          "San Francisco, USA<br>5.381687 million tonnes C02e",
          "Somerville, MA, USA<br>0.586308 million tonnes C02e",
          "La Paz, Bolivia<br>1.4265338 million tonnes C02e",
          "Sorocaba, Brazil<br>1.113971 million tonnes C02e"
         ],
         "type": "scattergeo"
        },
        {
         "lat": [
          46.0667,
          45.508669899999994,
          60.451812600000004,
          45.433251500000004,
          35.6896342,
          37.019355,
          24.702107,
          47.36864979999999,
          22.629704999999998,
          35.1992,
          32.718146000000004,
          42.331427000000005,
          41.8781136
         ],
         "locationmode": "ISO-3",
         "lon": [
          13.2333,
          -73.5539925,
          22.266630300000003,
          12.3210704,
          139.6921007,
          -7.930439999999999,
          121.73775,
          8.539182499999999,
          120.343804,
          -111.6311,
          -117.1701,
          -83.0457538,
          -87.62979820000001
         ],
         "marker": {
          "color": [
           "#FFC300",
           "#FFC300",
           "#FFC300",
           "#FFC300",
           "#FFC300",
           "#FFC300",
           "#FFC300",
           "#FFC300",
           "#FFC300",
           "#FFC300",
           "#FFC300",
           "#FFC300",
           "#FFC300"
          ],
          "size": [
           3.937463101604278,
           88.06165989304812,
           7.1069518716577535,
           9.101672727272726,
           450,
           0.0017059893048128342,
           52.49555088770053,
           11.69433368983957,
           377.0423366631016,
           7.775085368983957,
           81.01108235294117,
           66.2844192513369,
           214.97326203208556
          ],
          "sizemode": "area"
         },
         "name": "GHE Stayed the same",
         "text": [
          "Udine, Italy<br>0.613588 million tonnes C02e",
          "Montreal, Canada<br>13.722942 million tonnes C02e",
          "Turku, Finland<br>1.1075 million tonnes C02e",
          "Venezia, Italy<br>1.418344 million tonnes C02e",
          "Tokyo, Japan<br>70.125 million tonnes C02e",
          "Faro, Portugal<br>0.00026585000000000004 million tonnes C02e",
          "Yilan , Taiwan<br>8.18055668 million tonnes C02e",
          "Stadt Zürich, Switzerland<br>1.822367 million tonnes C02e",
          "Kaohsiung, Taiwan<br>58.75576413 million tonnes C02e",
          "Flagstaff, USA<br>1.21161747 million tonnes C02e",
          "San Diego, USA<br>12.624227 million tonnes C02e",
          "Detroit, USA<br>10.329322 million tonnes C02e",
          "Chicago, USA<br>33.5 million tonnes C02e"
         ],
         "type": "scattergeo"
        },
        {
         "lat": [
          -29.8586804,
          -35.3075,
          -19.916681,
          -25.431063,
          -27.594988399999995,
          -22.9054389,
          43.850854999999996,
          53.544389,
          42.9837,
          -6.5971470000000005,
          22.288080899999997,
          64.12652,
          35.4437078,
          37.263572700000005,
          22.173333,
          51.9163716,
          -36.815328,
          59.913868799999996,
          14.559004000000002,
          38.660815,
          24.993628,
          -25.746111,
          37.456255999999996,
          25.0111,
          22.551976,
          25.037525,
          51.504858,
          33.7489954,
          38.049365,
          38.9071923,
          36.169941200000004,
          44.983334,
          40.7127837,
          37.8044,
          10.469640400000001,
          -15.794229000000001
         ],
         "locationmode": "ISO-3",
         "lon": [
          31.0218404,
          149.1244,
          -43.934492999999996,
          -49.264693,
          -48.54817429999999,
          -43.5614471,
          -79.02037299999999,
          -113.4909267,
          -81.2497,
          106.80603899999998,
          114.13980149999999,
          -21.817439999999998,
          139.6380256,
          127.02860090000001,
          -100.97005,
          4.4509382,
          174.74178799999999,
          10.7522454,
          121.08163200000001,
          -9.079072,
          121.30098000000001,
          28.188056,
          126.705206,
          121.4458,
          120.54876000000002,
          121.563782,
          -0.078689,
          -84.3879824,
          -122.1585777,
          -77.03687070000001,
          -115.13982959999998,
          -93.26666999999999,
          -74.00594129999999,
          -122.2708,
          -66.8037185,
          -47.882166
         ],
         "marker": {
          "color": [
           "#FF5733",
           "#FF5733",
           "#FF5733",
           "#FF5733",
           "#FF5733",
           "#FF5733",
           "#FF5733",
           "#FF5733",
           "#FF5733",
           "#FF5733",
           "#FF5733",
           "#FF5733",
           "#FF5733",
           "#FF5733",
           "#FF5733",
           "#FF5733",
           "#FF5733",
           "#FF5733",
           "#FF5733",
           "#FF5733",
           "#FF5733",
           "#FF5733",
           "#FF5733",
           "#FF5733",
           "#FF5733",
           "#FF5733",
           "#FF5733",
           "#FF5733",
           "#FF5733",
           "#FF5733",
           "#FF5733",
           "#FF5733",
           "#FF5733",
           "#FF5733",
           "#FF5733",
           "#FF5733"
          ],
          "size": [
           144.94383529411763,
           25.693475935828875,
           20.802436363636364,
           19.48414331550802,
           9.307796791443849,
           130.06232085561496,
           3.4577711229946524,
           106.37455828877005,
           19.700534759358288,
           14.076847058823528,
           274.01069518716577,
           2.2243636363636363,
           140.85561497326202,
           37.05981818181818,
           8.474630951871656,
           202.21604278074864,
           67.20099465240641,
           8.601638502673795,
           10.6547807486631,
           1.8664106951871657,
           192.98664551871659,
           97.77557005347593,
           447.8768342245989,
           110.5920256684492,
           29.549550802139034,
           95.98334117647059,
           257.903743315508,
           57.9095294117647,
           4.4195037433155075,
           47.399403208556144,
           190.31313368983956,
           30.76817967914438,
           316.91235080213903,
           17.542228877005346,
           114.06273368983956,
           4.966735828877005
          ],
          "sizemode": "area"
         },
         "name": "GHE Increased",
         "text": [
          "Durban, South Africa<br>22.587081 million tonnes C02e",
          "Canberra, Australia<br>4.0039 million tonnes C02e",
          "Belo Horizonte, Brazil<br>3.241713 million tonnes C02e",
          "Curitiba, Brazil<br>3.036279 million tonnes C02e",
          "Florianópolis, Brazil<br>1.450465 million tonnes C02e",
          "Rio de Janeiro, Brazil<br>20.268045 million tonnes C02e",
          "Ajax, ON, Canada<br>0.538836 million tonnes C02e",
          "Edmonton, Canada<br>16.576702 million tonnes C02e",
          "London, ON, Canada<br>3.07 million tonnes C02e",
          "Bogor , Indonesia<br>2.193642 million tonnes C02e",
          "Hong Kong, Hong Kong<br>42.7 million tonnes C02e",
          "Reykjavík, Iceland<br>0.34663 million tonnes C02e",
          "Yokohama, Japan<br>21.95 million tonnes C02e",
          "Suwon , South Korea<br>5.775155 million tonnes C02e",
          "San Luis Potosí, Mexico<br>1.32062999 million tonnes C02e",
          "Rotterdam, Netherlands<br>31.512 million tonnes C02e",
          "Auckland , New Zealand<br>10.472155 million tonnes C02e",
          "Oslo, Norway<br>1.340422 million tonnes C02e",
          "Makati, Philippines<br>1.66037 million tonnes C02e",
          "Barreiro, Portugal<br>0.290849 million tonnes C02e",
          "Taoyuan , Taiwan<br>30.073752260000003 million tonnes C02e",
          "Pretoria - Tshwane, South Africa<br>15.236693 million tonnes C02e",
          "Incheon , South Korea<br>69.79414 million tonnes C02e",
          "New Taipei , Taiwan<br>17.233924 million tonnes C02e",
          "Pingtung , Taiwan<br>4.604805 million tonnes C02e",
          "Taipei City, Taiwan<br>14.957404 million tonnes C02e",
          "London , United Kingdom<br>40.19 million tonnes C02e",
          "Atlanta, USA<br>9.024235 million tonnes C02e",
          "Benicia, USA<br>0.688706 million tonnes C02e",
          "District of Columbia, USA<br>7.386407 million tonnes C02e",
          "Las Vegas, USA<br>29.65713 million tonnes C02e",
          "Minneapolis, USA<br>4.794708 million tonnes C02e",
          "New York City, USA<br>49.385508 million tonnes C02e",
          "Oakland, USA<br>2.733664 million tonnes C02e",
          "Alcaldía Metropolitana de Caracas, Venezuela<br>17.774776 million tonnes C02e",
          "Brasília, Brazil<br>0.773983 million tonnes C02e"
         ],
         "type": "scattergeo"
        },
        {
         "lat": [
          44.0519,
          -33.9253,
          4.598056,
          45.52,
          54.891456000000005,
          37.6808,
          48.856614,
          37.271,
          -34.603723200000005,
          -34.928499,
          -37.814107,
          49.398752,
          -33.8674869,
          44.48560870000001,
          51.048615000000005,
          49.8997541,
          57.456779000000004,
          43.653226000000004,
          53.5510846,
          43.250021000000004,
          55.656328,
          -0.2333,
          49.261226,
          55.676096799999996,
          55.733461,
          60.17332439999999,
          30.2672,
          60.9833,
          35.994,
          -6.2087634000000005,
          44.8357395,
          45.100637400000004,
          38.3434574,
          41.913028000000004,
          41.8723889,
          35.181446,
          41.30284,
          54.68715600000001,
          19.4326077,
          52.370216,
          37.831315999999994,
          37.6689,
          26.661763,
          52.2296756,
          40.107625299999995,
          38.6970565,
          38.722252399999995,
          41.1579438,
          -26.2041028,
          38.544907,
          41.6611,
          59.3293235,
          47.5619,
          46.5198,
          39.195,
          33.8622,
          52.480174,
          39.9611755,
          50.719164,
          51.481581,
          52.6333,
          44.475882500000004,
          32.780139899999995,
          53.4575955,
          40.12408,
          37.226486,
          40.9414,
          39.737567,
          35.9606,
          42.358430799999994,
          39.7047,
          37.3797,
          34.0522342,
          36.1627,
          37.4419,
          39.952335,
          37.8244,
          38.6270025,
          40.440624799999995,
          37.540725,
          34.0219,
          47.6062095,
          32.2217,
          41.608629
         ],
         "locationmode": "ISO-3",
         "lon": [
          -123.0867,
          18.4239,
          -74.07583299999999,
          -122.6819,
          10.404684,
          -122.4,
          2.3522218999999995,
          -79.9414,
          -58.381593099999996,
          138.600746,
          144.96328,
          8.672433999999999,
          151.20699019999998,
          11.3547975,
          -114.070846,
          -97.13749370000001,
          9.995764,
          -79.3831843,
          9.993681800000001,
          -79.866091,
          12.2898,
          -78.5167,
          -123.11392679999999,
          12.568337099999999,
          12.488686,
          24.9410248,
          -97.7431,
          25.65,
          -78.8986,
          106.84559899999999,
          11.6189949,
          7.668004600000001,
          26.553613000000002,
          12.518037,
          12.4801802,
          136.906398,
          -8.65731,
          25.279651,
          -99.133208,
          4.895168,
          -122.285247,
          -122.0808,
          -80.268357,
          21.012228699999998,
          -3.3875672999999997,
          -9.422294500000001,
          -9.1393366,
          -8.6291053,
          28.047305100000003,
          -121.740517,
          -91.5302,
          18.068580800000003,
          7.5928,
          6.6335,
          -106.837,
          -118.3995,
          -1.902907,
          -82.9987942,
          -1.880769,
          -3.17909,
          -1.1333,
          -73.21207199999999,
          -96.80045109999999,
          -2.1578377,
          -75.119511,
          -76.00259399999999,
          -73.8644,
          -104.9847179,
          -83.9207,
          -71.05977320000001,
          -105.0814,
          -122.1375,
          -118.24368490000002,
          -86.7816,
          -122.14299999999999,
          -75.16378900000001,
          -122.2316,
          -90.1994042,
          -79.9958864,
          -77.436048,
          -118.4814,
          -122.33207079999998,
          -110.9265,
          -0.8870120000000001
         ],
         "marker": {
          "color": [
           "#84AD61",
           "#84AD61",
           "#84AD61",
           "#84AD61",
           "#84AD61",
           "#84AD61",
           "#84AD61",
           "#84AD61",
           "#84AD61",
           "#84AD61",
           "#84AD61",
           "#84AD61",
           "#84AD61",
           "#84AD61",
           "#84AD61",
           "#84AD61",
           "#84AD61",
           "#84AD61",
           "#84AD61",
           "#84AD61",
           "#84AD61",
           "#84AD61",
           "#84AD61",
           "#84AD61",
           "#84AD61",
           "#84AD61",
           "#84AD61",
           "#84AD61",
           "#84AD61",
           "#84AD61",
           "#84AD61",
           "#84AD61",
           "#84AD61",
           "#84AD61",
           "#84AD61",
           "#84AD61",
           "#84AD61",
           "#84AD61",
           "#84AD61",
           "#84AD61",
           "#84AD61",
           "#84AD61",
           "#84AD61",
           "#84AD61",
           "#84AD61",
           "#84AD61",
           "#84AD61",
           "#84AD61",
           "#84AD61",
           "#84AD61",
           "#84AD61",
           "#84AD61",
           "#84AD61",
           "#84AD61",
           "#84AD61",
           "#84AD61",
           "#84AD61",
           "#84AD61",
           "#84AD61",
           "#84AD61",
           "#84AD61",
           "#84AD61",
           "#84AD61",
           "#84AD61",
           "#84AD61",
           "#84AD61",
           "#84AD61",
           "#84AD61",
           "#84AD61",
           "#84AD61",
           "#84AD61",
           "#84AD61",
           "#84AD61",
           "#84AD61",
           "#84AD61",
           "#84AD61",
           "#84AD61",
           "#84AD61",
           "#84AD61",
           "#84AD61",
           "#84AD61",
           "#84AD61",
           "#84AD61",
           "#84AD61"
          ],
          "size": [
           8.02139037433155,
           145.30810267379678,
           79.31117345454544,
           44.75643208556149,
           0.0014438502673796792,
           0.9498930481283422,
           33.34115294117647,
           12.652485561497326,
           126.20616898395721,
           3.1221882352941175,
           28.058310160427805,
           5.646417112299465,
           22.82264598930481,
           14.570211978609626,
           116.8378524064171,
           33.736844919786094,
           2.675935828877005,
           117.56769625668448,
           0.11393582887700535,
           105.68523850267378,
           1.9058823529411764,
           33.58299465240641,
           15.674451336898395,
           9.307110160427808,
           2.323495187165775,
           17.90197219251337,
           87.91443850267379,
           4.398673796791444,
           29.072528342245988,
           178.26737967914437,
           10.155754844919784,
           22.435225668449196,
           0.002847850267379679,
           0.07327700534759359,
           64.22810053475935,
           86.11764705882352,
           0.6193026737967914,
           12.79931550802139,
           151.797503486631,
           28.690909090909088,
           1.0763294117647058,
           6.729651336898395,
           6.962432085561497,
           75.21994010695187,
           65.82062887700535,
           3.6281197860962564,
           12.413011764705882,
           6.545454545454545,
           158.6099229946524,
           2.235381818181818,
           8.33339037433155,
           16.11336898395722,
           5.684778609625668,
           3.2058160427807483,
           2.530530481283422,
           0.8124770053475935,
           0.03336705882352941,
           70.48299465240642,
           5.022352941176471,
           13.65561497326203,
           11.034866310160426,
           2.601402994652406,
           110.56291764705881,
           95.54642566844919,
           3.947961497326203,
           15.918930481283422,
           8.012727272727272,
           57.381818181818176,
           25.667640641711227,
           38.92737112299465,
           11.08787165775401,
           0.36733475935828874,
           186.2554459893048,
           78.77547593582887,
           0.9794502673796791,
           123.29114477005346,
           0.278772192513369,
           55.85248633155079,
           30.821685561497326,
           20.22993368983957,
           4.526906951871657,
           33.510160427807484,
           42.73219893048128,
           11.458419786096256
          ],
          "sizemode": "area"
         },
         "name": "GHE Decreased",
         "text": [
          "Eugene, USA<br>1.25 million tonnes C02e",
          "Cape Town, South Africa<br>22.643846 million tonnes C02e",
          "Bogotá , Colombia<br>12.359324529999999 million tonnes C02e",
          "Portland, OR, USA<br>6.974544 million tonnes C02e",
          "City of Ærøskøbing, Denmark<br>0.000225 million tonnes C02e",
          "Brisbane, CA, USA<br>0.148025 million tonnes C02e",
          "Paris, France<br>5.195663 million tonnes C02e",
          "Roanoke, USA<br>1.971679 million tonnes C02e",
          "Buenos Aires, Argentina<br>19.667128 million tonnes C02e",
          "Adelaide, Australia<br>0.486541 million tonnes C02e",
          "Melbourne, Australia<br>4.37242 million tonnes C02e",
          "Stadt Heidelberg, Germany<br>0.8799 million tonnes C02e",
          "Sydney, Australia<br>3.556529 million tonnes C02e",
          "Bologna, Italy<br>2.2705247 million tonnes C02e",
          "Calgary, Canada<br>18.207232 million tonnes C02e",
          "City of Winnipeg, Canada<br>5.257325 million tonnes C02e",
          "Hjørring, Denmark<br>0.417 million tonnes C02e",
          "Toronto, Canada<br>18.320966 million tonnes C02e",
          "Hamburg, Germany<br>0.017755 million tonnes C02e",
          "Hamilton, Canada<br>16.469283 million tonnes C02e",
          "Hoeje-Taastrup Kommune, Denmark<br>0.297 million tonnes C02e",
          "Distrito Metropolitano de Quito, Ecuador<br>5.23335 million tonnes C02e",
          "Vancouver, Canada<br>2.442602 million tonnes C02e",
          "Copenhagen, Denmark<br>1.450358 million tonnes C02e",
          "Gladsaxe Kommune, Denmark<br>0.362078 million tonnes C02e",
          "Helsinki, Finland<br>2.789724 million tonnes C02e",
          "Austin, USA<br>13.7 million tonnes C02e",
          "Lahti, Finland<br>0.68546 million tonnes C02e",
          "Durham, USA<br>4.530469 million tonnes C02e",
          "Jakarta , Indonesia<br>27.78 million tonnes C02e",
          "Ferrara, Italy<br>1.58260513 million tonnes C02e",
          "Torino, Italy<br>3.496156 million tonnes C02e",
          "Kadiovacik, Turkey<br>0.00044379 million tonnes C02e",
          "Ravenna, Italy<br>0.011419 million tonnes C02e",
          "Roma , Italy<br>10.008879 million tonnes C02e",
          "Nagoya, Japan<br>13.42 million tonnes C02e",
          "Moita, Portugal<br>0.096508 million tonnes C02e",
          "Vilnius , Lithuania<br>1.99456 million tonnes C02e",
          "Mexico City, Mexico<br>23.655110960000002 million tonnes C02e",
          "Amsterdam, Netherlands<br>4.471 million tonnes C02e",
          "Emeryville, CA, USA<br>0.167728 million tonnes C02e",
          "Hayward, USA<br>1.048704 million tonnes C02e",
          "Wellington, New Zealand<br>1.084979 million tonnes C02e",
          "Warsaw, Poland<br>11.721774 million tonnes C02e",
          "Madrid, Spain<br>10.257048 million tonnes C02e",
          "Cascais, Portugal<br>0.565382 million tonnes C02e",
          "Lisbon, Portugal<br>1.934361 million tonnes C02e",
          "Porto, Portugal<br>1.02 million tonnes C02e",
          "Johannesburg, South Africa<br>24.716713 million tonnes C02e",
          "Davis, CA, USA<br>0.348347 million tonnes C02e",
          "Iowa , USA<br>1.29862 million tonnes C02e",
          "Stockholm, Sweden<br>2.511 million tonnes C02e",
          "Basel-Stadt, Switzerland<br>0.885878 million tonnes C02e",
          "Lausanne, Switzerland<br>0.499573 million tonnes C02e",
          "Aspen and Pitkin County, USA<br>0.394341 million tonnes C02e",
          "Hermosa Beach, CA, USA<br>0.126611 million tonnes C02e",
          "Birmingham, United Kingdom<br>0.0051997 million tonnes C02e",
          "Columbus, USA<br>10.9836 million tonnes C02e",
          "Bournemouth, United Kingdom<br>0.78265 million tonnes C02e",
          "Cardiff, United Kingdom<br>2.128 million tonnes C02e",
          "Leicester, United Kingdom<br>1.7196 million tonnes C02e",
          "Burlington, USA<br>0.4053853 million tonnes C02e",
          "Dallas, USA<br>17.229388 million tonnes C02e",
          "Manchester, United Kingdom<br>14.889318 million tonnes C02e",
          "Abington , USA<br>0.615224 million tonnes C02e",
          "Arlington, VA, USA<br>2.4807 million tonnes C02e",
          "Yonkers, USA<br>1.24865 million tonnes C02e",
          "Denver, USA<br>8.942 million tonnes C02e",
          "Knoxville, USA<br>3.999874 million tonnes C02e",
          "Boston, USA<br>6.066182 million tonnes C02e",
          "Lakewood, USA<br>1.72786 million tonnes C02e",
          "Los Altos Hills, USA<br>0.057243 million tonnes C02e",
          "Los Angeles, USA<br>29.024807 million tonnes C02e",
          "Nashville and Davidson , USA<br>12.275845 million tonnes C02e",
          "Palo Alto, USA<br>0.152631 million tonnes C02e",
          "Philadelphia, USA<br>19.21287006 million tonnes C02e",
          "Piedmont, CA, USA<br>0.043442 million tonnes C02e",
          "St Louis, USA<br>8.703679119999999 million tonnes C02e",
          "Pittsburgh, USA<br>4.803046 million tonnes C02e",
          "Richmond, VA, USA<br>3.152498 million tonnes C02e",
          "Santa Monica, USA<br>0.705443 million tonnes C02e",
          "Seattle, USA<br>5.222 million tonnes C02e",
          "Tucson, USA<br>6.659101 million tonnes C02e",
          "Zaragoza, Spain<br>1.78560375 million tonnes C02e"
         ],
         "type": "scattergeo"
        },
        {
         "lat": [
          -10.249091,
          13.756464999999999,
          34.655146,
          42.258634,
          38.890603999999996,
          3.451647,
          34.385203000000004,
          56.168393,
          43.710173,
          52.08889,
          35.2141598,
          37.98381,
          -16.686891199999998,
          -3.6727220000000003,
          -33.448890000000006,
          42.314937,
          -8.057838,
          -12.97304,
          -2.170998,
          9.028874,
          49.32699,
          44.309058,
          37.566534999999995,
          48.692054,
          53.34447900000001,
          44.347961,
          45.802578000000004,
          31.945366999999997,
          45.0519969,
          -12.046374,
          29.4241,
          -22.808027,
          46.056946999999994,
          6.524379,
          40.575302,
          39.236669,
          38.763669,
          39.767625,
          29.760192699999998,
          40.0274,
          42.6526,
          39.2903848,
          37.2296,
          41.499320000000004,
          40.037875,
          38.6682,
          29.9511,
          32.0835,
          34.09,
          39.5296,
          37.7749295,
          42.393449,
          -16.5,
          -23.4774899
         ],
         "locationmode": "ISO-3",
         "lon": [
          -48.324286,
          121.05830800000001,
          133.919502,
          -87.840625,
          -90.184276,
          -76.53198499999999,
          132.45529299999998,
          10.137373,
          7.261953,
          11.586164,
          33.294754100000006,
          23.727539,
          -49.2647943,
          -45.3831,
          -70.669265,
          -83.036363,
          -34.882897,
          -38.502303999999995,
          -79.922359,
          38.754366,
          -123.07328000000001,
          -78.31974699999999,
          126.9779692,
          6.184417,
          -6.270843,
          9.318415,
          9.086356,
          35.928371999999996,
          9.6926451,
          -77.042793,
          -98.4936,
          -45.19422,
          14.505751,
          3.379206,
          -8.445822,
          -8.685994,
          -9.30148,
          -86.17846899999999,
          -95.36938959999999,
          -105.2519,
          -73.7562,
          -76.6121893,
          -80.4139,
          -81.6943605,
          -76.305514,
          -90.3325,
          -90.0715,
          -81.0998,
          -118.3617,
          -119.8138,
          -122.4194155,
          -71.082647,
          -68.15,
          -47.4220615
         ],
         "marker": {
          "color": [
           "#CAC9C1",
           "#CAC9C1",
           "#CAC9C1",
           "#CAC9C1",
           "#CAC9C1",
           "#CAC9C1",
           "#CAC9C1",
           "#CAC9C1",
           "#CAC9C1",
           "#CAC9C1",
           "#CAC9C1",
           "#CAC9C1",
           "#CAC9C1",
           "#CAC9C1",
           "#CAC9C1",
           "#CAC9C1",
           "#CAC9C1",
           "#CAC9C1",
           "#CAC9C1",
           "#CAC9C1",
           "#CAC9C1",
           "#CAC9C1",
           "#CAC9C1",
           "#CAC9C1",
           "#CAC9C1",
           "#CAC9C1",
           "#CAC9C1",
           "#CAC9C1",
           "#CAC9C1",
           "#CAC9C1",
           "#CAC9C1",
           "#CAC9C1",
           "#CAC9C1",
           "#CAC9C1",
           "#CAC9C1",
           "#CAC9C1",
           "#CAC9C1",
           "#CAC9C1",
           "#CAC9C1",
           "#CAC9C1",
           "#CAC9C1",
           "#CAC9C1",
           "#CAC9C1",
           "#CAC9C1",
           "#CAC9C1",
           "#CAC9C1",
           "#CAC9C1",
           "#CAC9C1",
           "#CAC9C1",
           "#CAC9C1",
           "#CAC9C1",
           "#CAC9C1",
           "#CAC9C1",
           "#CAC9C1"
          ],
          "size": [
           4.013208064171122,
           2.934468449197861,
           44.3807486631016,
           2.582014973262032,
           2.573768983957219,
           26.78892834224599,
           55.67125347593583,
           0.012192513368983957,
           21.511148663101604,
           8.983957219251336,
           4.868194652406417,
           30.23471229946524,
           12.938951871657753,
           18.154832085561495,
           148.3638147593583,
           15.886864171122994,
           0.012083422459893047,
           23.736667379679144,
           43.555341176470584,
           23.796526203208554,
           1.2631443850267379,
           1.8164342245989304,
           305.53581176470584,
           13.796791443850266,
           18.88138395721925,
           11.617347593582886,
           38.35366203208556,
           46.30207700534759,
           3.9494245989304813,
           99.02955080213903,
           100.97173475935828,
           3.517835165775401,
           13.346040641711229,
           188.8316534759358,
           1.6612748663101604,
           2.1286652406417113,
           1.6705732620320854,
           13.863304684491977,
           214.5131614973262,
           11.050241711229946,
           7.810209625668449,
           48.63621818181818,
           2.4625485561497324,
           76.29686631016042,
           2.3471422459893048,
           3.215916577540107,
           29.252887700534757,
           23.16286203208556,
           3.742543315508021,
           28.476994652406415,
           34.53488983957219,
           3.762404278074866,
           9.154227593582888,
           7.148477005347593
          ],
          "sizemode": "area"
         },
         "name": "Other",
         "text": [
          "Palmas, Brazil<br>0.62539159 million tonnes C02e",
          "Batangas, Philippines<br>0.457288 million tonnes C02e",
          "Okayama, Japan<br>6.916 million tonnes C02e",
          "Lake Forest, IL, USA<br>0.402364 million tonnes C02e",
          "Alton, IL, USA<br>0.401079 million tonnes C02e",
          "Santiago de Cali, Colombia<br>4.174608 million tonnes C02e",
          "Hiroshima, Japan<br>8.675437 million tonnes C02e",
          "Aarhus Kommune, Denmark<br>0.0019 million tonnes C02e",
          "Nice Côte d'Azur, France<br>3.352154 million tonnes C02e",
          "Landeshauptstadt Magdeburg, Germany<br>1.4 million tonnes C02e",
          "Bornova , Turkey<br>0.758627 million tonnes C02e",
          "Athens, Greece<br>4.711576 million tonnes C02e",
          "Goiânia, Brazil<br>2.01632 million tonnes C02e",
          "Porto Alegre, Brazil<br>2.829128 million tonnes C02e",
          "Región Metropolitana de Santiago, Chile<br>23.1200278 million tonnes C02e",
          "Windsor, Canada<br>2.475703 million tonnes C02e",
          "Recife, Brazil<br>0.001883 million tonnes C02e",
          "Salvador, Brazil<br>3.698964 million tonnes C02e",
          "Santiago de Guayaquil, Ecuador<br>6.787374 million tonnes C02e",
          "Addis Ababa, Ethiopia<br>3.708292 million tonnes C02e",
          "North Vancouver, Canada<br>0.19684 million tonnes C02e",
          "Peterborough, Canada<br>0.283061 million tonnes C02e",
          "Seoul , South Korea<br>47.612664 million tonnes C02e",
          "Communauté urbaine du Grand Nancy, France<br>2.15 million tonnes C02e",
          "Dublin, Ireland<br>2.942349 million tonnes C02e",
          "Genova, Italy<br>1.81037 million tonnes C02e",
          "Milano, Italy<br>5.976779 million tonnes C02e",
          "Amman , Jordan<br>7.215407 million tonnes C02e",
          "Piacenza, Italy<br>0.615452 million tonnes C02e",
          "Lima, Peru<br>15.432105 million tonnes C02e",
          "San Antonio, USA<br>15.734762 million tonnes C02e",
          "Guaratinguetá, Brazil<br>0.54819598 million tonnes C02e",
          "Ljubljana, Slovenia<br>2.079758 million tonnes C02e",
          "Lagos, Nigeria<br>29.426266 million tonnes C02e",
          "Águeda, Portugal<br>0.258882 million tonnes C02e",
          "Santarém, Portugal<br>0.331717 million tonnes C02e",
          "Torres Vedras , Portugal<br>0.260331 million tonnes C02e",
          "Indianapolis, USA<br>2.1603649799999998 million tonnes C02e",
          "Houston, USA<br>33.428301 million tonnes C02e",
          "Boulder, USA<br>1.721996 million tonnes C02e",
          "Albany, USA<br>1.217091 million tonnes C02e",
          "Baltimore, USA<br>7.579144 million tonnes C02e",
          "Blacksburg, USA<br>0.38374715000000004 million tonnes C02e",
          "Cleveland, USA<br>11.889595 million tonnes C02e",
          "Lancaster, PA, USA<br>0.365763 million tonnes C02e",
          "University City, MO, USA<br>0.501147 million tonnes C02e",
          "New Orleans, USA<br>4.558575 million tonnes C02e",
          "Savannah, USA<br>3.609546 million tonnes C02e",
          "West Hollywood, USA<br>0.583213 million tonnes C02e",
          "Reno, USA<br>4.437665 million tonnes C02e",
          "San Francisco, USA<br>5.381687 million tonnes C02e",
          "Somerville, MA, USA<br>0.586308 million tonnes C02e",
          "La Paz, Bolivia<br>1.4265338 million tonnes C02e",
          "Sorocaba, Brazil<br>1.113971 million tonnes C02e"
         ],
         "type": "scattergeo"
        }
       ],
       "layout": {
        "geo": {
         "lakecolor": "#DAECED",
         "landcolor": "#CECD7B",
         "oceancolor": "#DAECED",
         "showcoastlines": false,
         "showframe": false,
         "showocean": true
        },
        "showlegend": true,
        "template": {
         "data": {
          "bar": [
           {
            "error_x": {
             "color": "#2a3f5f"
            },
            "error_y": {
             "color": "#2a3f5f"
            },
            "marker": {
             "line": {
              "color": "#E5ECF6",
              "width": 0.5
             }
            },
            "type": "bar"
           }
          ],
          "barpolar": [
           {
            "marker": {
             "line": {
              "color": "#E5ECF6",
              "width": 0.5
             }
            },
            "type": "barpolar"
           }
          ],
          "carpet": [
           {
            "aaxis": {
             "endlinecolor": "#2a3f5f",
             "gridcolor": "white",
             "linecolor": "white",
             "minorgridcolor": "white",
             "startlinecolor": "#2a3f5f"
            },
            "baxis": {
             "endlinecolor": "#2a3f5f",
             "gridcolor": "white",
             "linecolor": "white",
             "minorgridcolor": "white",
             "startlinecolor": "#2a3f5f"
            },
            "type": "carpet"
           }
          ],
          "choropleth": [
           {
            "colorbar": {
             "outlinewidth": 0,
             "ticks": ""
            },
            "type": "choropleth"
           }
          ],
          "contour": [
           {
            "colorbar": {
             "outlinewidth": 0,
             "ticks": ""
            },
            "colorscale": [
             [
              0,
              "#0d0887"
             ],
             [
              0.1111111111111111,
              "#46039f"
             ],
             [
              0.2222222222222222,
              "#7201a8"
             ],
             [
              0.3333333333333333,
              "#9c179e"
             ],
             [
              0.4444444444444444,
              "#bd3786"
             ],
             [
              0.5555555555555556,
              "#d8576b"
             ],
             [
              0.6666666666666666,
              "#ed7953"
             ],
             [
              0.7777777777777778,
              "#fb9f3a"
             ],
             [
              0.8888888888888888,
              "#fdca26"
             ],
             [
              1,
              "#f0f921"
             ]
            ],
            "type": "contour"
           }
          ],
          "contourcarpet": [
           {
            "colorbar": {
             "outlinewidth": 0,
             "ticks": ""
            },
            "type": "contourcarpet"
           }
          ],
          "heatmap": [
           {
            "colorbar": {
             "outlinewidth": 0,
             "ticks": ""
            },
            "colorscale": [
             [
              0,
              "#0d0887"
             ],
             [
              0.1111111111111111,
              "#46039f"
             ],
             [
              0.2222222222222222,
              "#7201a8"
             ],
             [
              0.3333333333333333,
              "#9c179e"
             ],
             [
              0.4444444444444444,
              "#bd3786"
             ],
             [
              0.5555555555555556,
              "#d8576b"
             ],
             [
              0.6666666666666666,
              "#ed7953"
             ],
             [
              0.7777777777777778,
              "#fb9f3a"
             ],
             [
              0.8888888888888888,
              "#fdca26"
             ],
             [
              1,
              "#f0f921"
             ]
            ],
            "type": "heatmap"
           }
          ],
          "heatmapgl": [
           {
            "colorbar": {
             "outlinewidth": 0,
             "ticks": ""
            },
            "colorscale": [
             [
              0,
              "#0d0887"
             ],
             [
              0.1111111111111111,
              "#46039f"
             ],
             [
              0.2222222222222222,
              "#7201a8"
             ],
             [
              0.3333333333333333,
              "#9c179e"
             ],
             [
              0.4444444444444444,
              "#bd3786"
             ],
             [
              0.5555555555555556,
              "#d8576b"
             ],
             [
              0.6666666666666666,
              "#ed7953"
             ],
             [
              0.7777777777777778,
              "#fb9f3a"
             ],
             [
              0.8888888888888888,
              "#fdca26"
             ],
             [
              1,
              "#f0f921"
             ]
            ],
            "type": "heatmapgl"
           }
          ],
          "histogram": [
           {
            "marker": {
             "colorbar": {
              "outlinewidth": 0,
              "ticks": ""
             }
            },
            "type": "histogram"
           }
          ],
          "histogram2d": [
           {
            "colorbar": {
             "outlinewidth": 0,
             "ticks": ""
            },
            "colorscale": [
             [
              0,
              "#0d0887"
             ],
             [
              0.1111111111111111,
              "#46039f"
             ],
             [
              0.2222222222222222,
              "#7201a8"
             ],
             [
              0.3333333333333333,
              "#9c179e"
             ],
             [
              0.4444444444444444,
              "#bd3786"
             ],
             [
              0.5555555555555556,
              "#d8576b"
             ],
             [
              0.6666666666666666,
              "#ed7953"
             ],
             [
              0.7777777777777778,
              "#fb9f3a"
             ],
             [
              0.8888888888888888,
              "#fdca26"
             ],
             [
              1,
              "#f0f921"
             ]
            ],
            "type": "histogram2d"
           }
          ],
          "histogram2dcontour": [
           {
            "colorbar": {
             "outlinewidth": 0,
             "ticks": ""
            },
            "colorscale": [
             [
              0,
              "#0d0887"
             ],
             [
              0.1111111111111111,
              "#46039f"
             ],
             [
              0.2222222222222222,
              "#7201a8"
             ],
             [
              0.3333333333333333,
              "#9c179e"
             ],
             [
              0.4444444444444444,
              "#bd3786"
             ],
             [
              0.5555555555555556,
              "#d8576b"
             ],
             [
              0.6666666666666666,
              "#ed7953"
             ],
             [
              0.7777777777777778,
              "#fb9f3a"
             ],
             [
              0.8888888888888888,
              "#fdca26"
             ],
             [
              1,
              "#f0f921"
             ]
            ],
            "type": "histogram2dcontour"
           }
          ],
          "mesh3d": [
           {
            "colorbar": {
             "outlinewidth": 0,
             "ticks": ""
            },
            "type": "mesh3d"
           }
          ],
          "parcoords": [
           {
            "line": {
             "colorbar": {
              "outlinewidth": 0,
              "ticks": ""
             }
            },
            "type": "parcoords"
           }
          ],
          "scatter": [
           {
            "marker": {
             "colorbar": {
              "outlinewidth": 0,
              "ticks": ""
             }
            },
            "type": "scatter"
           }
          ],
          "scatter3d": [
           {
            "line": {
             "colorbar": {
              "outlinewidth": 0,
              "ticks": ""
             }
            },
            "marker": {
             "colorbar": {
              "outlinewidth": 0,
              "ticks": ""
             }
            },
            "type": "scatter3d"
           }
          ],
          "scattercarpet": [
           {
            "marker": {
             "colorbar": {
              "outlinewidth": 0,
              "ticks": ""
             }
            },
            "type": "scattercarpet"
           }
          ],
          "scattergeo": [
           {
            "marker": {
             "colorbar": {
              "outlinewidth": 0,
              "ticks": ""
             }
            },
            "type": "scattergeo"
           }
          ],
          "scattergl": [
           {
            "marker": {
             "colorbar": {
              "outlinewidth": 0,
              "ticks": ""
             }
            },
            "type": "scattergl"
           }
          ],
          "scattermapbox": [
           {
            "marker": {
             "colorbar": {
              "outlinewidth": 0,
              "ticks": ""
             }
            },
            "type": "scattermapbox"
           }
          ],
          "scatterpolar": [
           {
            "marker": {
             "colorbar": {
              "outlinewidth": 0,
              "ticks": ""
             }
            },
            "type": "scatterpolar"
           }
          ],
          "scatterpolargl": [
           {
            "marker": {
             "colorbar": {
              "outlinewidth": 0,
              "ticks": ""
             }
            },
            "type": "scatterpolargl"
           }
          ],
          "scatterternary": [
           {
            "marker": {
             "colorbar": {
              "outlinewidth": 0,
              "ticks": ""
             }
            },
            "type": "scatterternary"
           }
          ],
          "surface": [
           {
            "colorbar": {
             "outlinewidth": 0,
             "ticks": ""
            },
            "colorscale": [
             [
              0,
              "#0d0887"
             ],
             [
              0.1111111111111111,
              "#46039f"
             ],
             [
              0.2222222222222222,
              "#7201a8"
             ],
             [
              0.3333333333333333,
              "#9c179e"
             ],
             [
              0.4444444444444444,
              "#bd3786"
             ],
             [
              0.5555555555555556,
              "#d8576b"
             ],
             [
              0.6666666666666666,
              "#ed7953"
             ],
             [
              0.7777777777777778,
              "#fb9f3a"
             ],
             [
              0.8888888888888888,
              "#fdca26"
             ],
             [
              1,
              "#f0f921"
             ]
            ],
            "type": "surface"
           }
          ],
          "table": [
           {
            "cells": {
             "fill": {
              "color": "#EBF0F8"
             },
             "line": {
              "color": "white"
             }
            },
            "header": {
             "fill": {
              "color": "#C8D4E3"
             },
             "line": {
              "color": "white"
             }
            },
            "type": "table"
           }
          ]
         },
         "layout": {
          "annotationdefaults": {
           "arrowcolor": "#2a3f5f",
           "arrowhead": 0,
           "arrowwidth": 1
          },
          "colorscale": {
           "diverging": [
            [
             0,
             "#8e0152"
            ],
            [
             0.1,
             "#c51b7d"
            ],
            [
             0.2,
             "#de77ae"
            ],
            [
             0.3,
             "#f1b6da"
            ],
            [
             0.4,
             "#fde0ef"
            ],
            [
             0.5,
             "#f7f7f7"
            ],
            [
             0.6,
             "#e6f5d0"
            ],
            [
             0.7,
             "#b8e186"
            ],
            [
             0.8,
             "#7fbc41"
            ],
            [
             0.9,
             "#4d9221"
            ],
            [
             1,
             "#276419"
            ]
           ],
           "sequential": [
            [
             0,
             "#0d0887"
            ],
            [
             0.1111111111111111,
             "#46039f"
            ],
            [
             0.2222222222222222,
             "#7201a8"
            ],
            [
             0.3333333333333333,
             "#9c179e"
            ],
            [
             0.4444444444444444,
             "#bd3786"
            ],
            [
             0.5555555555555556,
             "#d8576b"
            ],
            [
             0.6666666666666666,
             "#ed7953"
            ],
            [
             0.7777777777777778,
             "#fb9f3a"
            ],
            [
             0.8888888888888888,
             "#fdca26"
            ],
            [
             1,
             "#f0f921"
            ]
           ],
           "sequentialminus": [
            [
             0,
             "#0d0887"
            ],
            [
             0.1111111111111111,
             "#46039f"
            ],
            [
             0.2222222222222222,
             "#7201a8"
            ],
            [
             0.3333333333333333,
             "#9c179e"
            ],
            [
             0.4444444444444444,
             "#bd3786"
            ],
            [
             0.5555555555555556,
             "#d8576b"
            ],
            [
             0.6666666666666666,
             "#ed7953"
            ],
            [
             0.7777777777777778,
             "#fb9f3a"
            ],
            [
             0.8888888888888888,
             "#fdca26"
            ],
            [
             1,
             "#f0f921"
            ]
           ]
          },
          "colorway": [
           "#636efa",
           "#EF553B",
           "#00cc96",
           "#ab63fa",
           "#FFA15A",
           "#19d3f3",
           "#FF6692",
           "#B6E880",
           "#FF97FF",
           "#FECB52"
          ],
          "font": {
           "color": "#2a3f5f"
          },
          "geo": {
           "bgcolor": "white",
           "lakecolor": "white",
           "landcolor": "#E5ECF6",
           "showlakes": true,
           "showland": true,
           "subunitcolor": "white"
          },
          "hoverlabel": {
           "align": "left"
          },
          "hovermode": "closest",
          "mapbox": {
           "style": "light"
          },
          "paper_bgcolor": "white",
          "plot_bgcolor": "#E5ECF6",
          "polar": {
           "angularaxis": {
            "gridcolor": "white",
            "linecolor": "white",
            "ticks": ""
           },
           "bgcolor": "#E5ECF6",
           "radialaxis": {
            "gridcolor": "white",
            "linecolor": "white",
            "ticks": ""
           }
          },
          "scene": {
           "xaxis": {
            "backgroundcolor": "#E5ECF6",
            "gridcolor": "white",
            "gridwidth": 2,
            "linecolor": "white",
            "showbackground": true,
            "ticks": "",
            "zerolinecolor": "white"
           },
           "yaxis": {
            "backgroundcolor": "#E5ECF6",
            "gridcolor": "white",
            "gridwidth": 2,
            "linecolor": "white",
            "showbackground": true,
            "ticks": "",
            "zerolinecolor": "white"
           },
           "zaxis": {
            "backgroundcolor": "#E5ECF6",
            "gridcolor": "white",
            "gridwidth": 2,
            "linecolor": "white",
            "showbackground": true,
            "ticks": "",
            "zerolinecolor": "white"
           }
          },
          "shapedefaults": {
           "line": {
            "color": "#2a3f5f"
           }
          },
          "ternary": {
           "aaxis": {
            "gridcolor": "white",
            "linecolor": "white",
            "ticks": ""
           },
           "baxis": {
            "gridcolor": "white",
            "linecolor": "white",
            "ticks": ""
           },
           "bgcolor": "#E5ECF6",
           "caxis": {
            "gridcolor": "white",
            "linecolor": "white",
            "ticks": ""
           }
          },
          "title": {
           "x": 0.05
          },
          "xaxis": {
           "automargin": true,
           "gridcolor": "white",
           "linecolor": "white",
           "ticks": "",
           "zerolinecolor": "white",
           "zerolinewidth": 2
          },
          "yaxis": {
           "automargin": true,
           "gridcolor": "white",
           "linecolor": "white",
           "ticks": "",
           "zerolinecolor": "white",
           "zerolinewidth": 2
          }
         }
        },
        "title": {
         "text": "2016 Global Green House Emissions<br>(in metric tonnes C02e)"
        }
       }
      },
      "text/html": [
       "<div>\n",
       "        \n",
       "        \n",
       "            <div id=\"84e8547a-e2e9-42f6-bc66-9d7f8530621f\" class=\"plotly-graph-div\" style=\"height:525px; width:100%;\"></div>\n",
       "            <script type=\"text/javascript\">\n",
       "                require([\"plotly\"], function(Plotly) {\n",
       "                    window.PLOTLYENV=window.PLOTLYENV || {};\n",
       "                    \n",
       "                if (document.getElementById(\"84e8547a-e2e9-42f6-bc66-9d7f8530621f\")) {\n",
       "                    Plotly.newPlot(\n",
       "                        '84e8547a-e2e9-42f6-bc66-9d7f8530621f',\n",
       "                        [{\"lat\": [46.0667, 45.508669899999994, 60.451812600000004, 45.433251500000004, 35.6896342, 37.019355, 24.702107, 47.36864979999999, 22.629704999999998, 35.1992, 32.718146000000004, 42.331427000000005, 41.8781136], \"locationmode\": \"ISO-3\", \"lon\": [13.2333, -73.5539925, 22.266630300000003, 12.3210704, 139.6921007, -7.930439999999999, 121.73775, 8.539182499999999, 120.343804, -111.6311, -117.1701, -83.0457538, -87.62979820000001], \"marker\": {\"color\": [\"#FFC300\", \"#FFC300\", \"#FFC300\", \"#FFC300\", \"#FFC300\", \"#FFC300\", \"#FFC300\", \"#FFC300\", \"#FFC300\", \"#FFC300\", \"#FFC300\", \"#FFC300\", \"#FFC300\"], \"size\": [3.937463101604278, 88.06165989304812, 7.1069518716577535, 9.101672727272726, 450.0, 0.0017059893048128342, 52.49555088770053, 11.69433368983957, 377.0423366631016, 7.775085368983957, 81.01108235294117, 66.2844192513369, 214.97326203208556], \"sizemode\": \"area\"}, \"name\": \"GHE Stayed the same\", \"text\": [\"Udine, Italy<br>0.613588 million tonnes C02e\", \"Montreal, Canada<br>13.722942 million tonnes C02e\", \"Turku, Finland<br>1.1075 million tonnes C02e\", \"Venezia, Italy<br>1.418344 million tonnes C02e\", \"Tokyo, Japan<br>70.125 million tonnes C02e\", \"Faro, Portugal<br>0.00026585000000000004 million tonnes C02e\", \"Yilan , Taiwan<br>8.18055668 million tonnes C02e\", \"Stadt Z\\u00fcrich, Switzerland<br>1.822367 million tonnes C02e\", \"Kaohsiung, Taiwan<br>58.75576413 million tonnes C02e\", \"Flagstaff, USA<br>1.21161747 million tonnes C02e\", \"San Diego, USA<br>12.624227 million tonnes C02e\", \"Detroit, USA<br>10.329322 million tonnes C02e\", \"Chicago, USA<br>33.5 million tonnes C02e\"], \"type\": \"scattergeo\"}, {\"lat\": [-29.8586804, -35.3075, -19.916681, -25.431063, -27.594988399999995, -22.9054389, 43.850854999999996, 53.544389, 42.9837, -6.5971470000000005, 22.288080899999997, 64.12652, 35.4437078, 37.263572700000005, 22.173333, 51.9163716, -36.815328, 59.913868799999996, 14.559004000000002, 38.660815, 24.993628, -25.746111, 37.456255999999996, 25.0111, 22.551976, 25.037525, 51.504858, 33.7489954, 38.049365, 38.9071923, 36.169941200000004, 44.983334, 40.7127837, 37.8044, 10.469640400000001, -15.794229000000001], \"locationmode\": \"ISO-3\", \"lon\": [31.0218404, 149.1244, -43.934492999999996, -49.264693, -48.54817429999999, -43.5614471, -79.02037299999999, -113.4909267, -81.2497, 106.80603899999998, 114.13980149999999, -21.817439999999998, 139.6380256, 127.02860090000001, -100.97005, 4.4509382, 174.74178799999999, 10.7522454, 121.08163200000001, -9.079072, 121.30098000000001, 28.188056, 126.705206, 121.4458, 120.54876000000002, 121.563782, -0.078689, -84.3879824, -122.1585777, -77.03687070000001, -115.13982959999998, -93.26666999999999, -74.00594129999999, -122.2708, -66.8037185, -47.882166], \"marker\": {\"color\": [\"#FF5733\", \"#FF5733\", \"#FF5733\", \"#FF5733\", \"#FF5733\", \"#FF5733\", \"#FF5733\", \"#FF5733\", \"#FF5733\", \"#FF5733\", \"#FF5733\", \"#FF5733\", \"#FF5733\", \"#FF5733\", \"#FF5733\", \"#FF5733\", \"#FF5733\", \"#FF5733\", \"#FF5733\", \"#FF5733\", \"#FF5733\", \"#FF5733\", \"#FF5733\", \"#FF5733\", \"#FF5733\", \"#FF5733\", \"#FF5733\", \"#FF5733\", \"#FF5733\", \"#FF5733\", \"#FF5733\", \"#FF5733\", \"#FF5733\", \"#FF5733\", \"#FF5733\", \"#FF5733\"], \"size\": [144.94383529411763, 25.693475935828875, 20.802436363636364, 19.48414331550802, 9.307796791443849, 130.06232085561496, 3.4577711229946524, 106.37455828877005, 19.700534759358288, 14.076847058823528, 274.01069518716577, 2.2243636363636363, 140.85561497326202, 37.05981818181818, 8.474630951871656, 202.21604278074864, 67.20099465240641, 8.601638502673795, 10.6547807486631, 1.8664106951871657, 192.98664551871659, 97.77557005347593, 447.8768342245989, 110.5920256684492, 29.549550802139034, 95.98334117647059, 257.903743315508, 57.9095294117647, 4.4195037433155075, 47.399403208556144, 190.31313368983956, 30.76817967914438, 316.91235080213903, 17.542228877005346, 114.06273368983956, 4.966735828877005], \"sizemode\": \"area\"}, \"name\": \"GHE Increased\", \"text\": [\"Durban, South Africa<br>22.587081 million tonnes C02e\", \"Canberra, Australia<br>4.0039 million tonnes C02e\", \"Belo Horizonte, Brazil<br>3.241713 million tonnes C02e\", \"Curitiba, Brazil<br>3.036279 million tonnes C02e\", \"Florian\\u00f3polis, Brazil<br>1.450465 million tonnes C02e\", \"Rio de Janeiro, Brazil<br>20.268045 million tonnes C02e\", \"Ajax, ON, Canada<br>0.538836 million tonnes C02e\", \"Edmonton, Canada<br>16.576702 million tonnes C02e\", \"London, ON, Canada<br>3.07 million tonnes C02e\", \"Bogor , Indonesia<br>2.193642 million tonnes C02e\", \"Hong Kong, Hong Kong<br>42.7 million tonnes C02e\", \"Reykjav\\u00edk, Iceland<br>0.34663 million tonnes C02e\", \"Yokohama, Japan<br>21.95 million tonnes C02e\", \"Suwon , South Korea<br>5.775155 million tonnes C02e\", \"San Luis Potos\\u00ed, Mexico<br>1.32062999 million tonnes C02e\", \"Rotterdam, Netherlands<br>31.512 million tonnes C02e\", \"Auckland , New Zealand<br>10.472155 million tonnes C02e\", \"Oslo, Norway<br>1.340422 million tonnes C02e\", \"Makati, Philippines<br>1.66037 million tonnes C02e\", \"Barreiro, Portugal<br>0.290849 million tonnes C02e\", \"Taoyuan , Taiwan<br>30.073752260000003 million tonnes C02e\", \"Pretoria - Tshwane, South Africa<br>15.236693 million tonnes C02e\", \"Incheon , South Korea<br>69.79414 million tonnes C02e\", \"New Taipei , Taiwan<br>17.233924 million tonnes C02e\", \"Pingtung , Taiwan<br>4.604805 million tonnes C02e\", \"Taipei City, Taiwan<br>14.957404 million tonnes C02e\", \"London , United Kingdom<br>40.19 million tonnes C02e\", \"Atlanta, USA<br>9.024235 million tonnes C02e\", \"Benicia, USA<br>0.688706 million tonnes C02e\", \"District of Columbia, USA<br>7.386407 million tonnes C02e\", \"Las Vegas, USA<br>29.65713 million tonnes C02e\", \"Minneapolis, USA<br>4.794708 million tonnes C02e\", \"New York City, USA<br>49.385508 million tonnes C02e\", \"Oakland, USA<br>2.733664 million tonnes C02e\", \"Alcald\\u00eda Metropolitana de Caracas, Venezuela<br>17.774776 million tonnes C02e\", \"Bras\\u00edlia, Brazil<br>0.773983 million tonnes C02e\"], \"type\": \"scattergeo\"}, {\"lat\": [44.0519, -33.9253, 4.598056, 45.52, 54.891456000000005, 37.6808, 48.856614, 37.271, -34.603723200000005, -34.928499, -37.814107, 49.398752, -33.8674869, 44.48560870000001, 51.048615000000005, 49.8997541, 57.456779000000004, 43.653226000000004, 53.5510846, 43.250021000000004, 55.656328, -0.2333, 49.261226, 55.676096799999996, 55.733461, 60.17332439999999, 30.2672, 60.9833, 35.994, -6.2087634000000005, 44.8357395, 45.100637400000004, 38.3434574, 41.913028000000004, 41.8723889, 35.181446, 41.30284, 54.68715600000001, 19.4326077, 52.370216, 37.831315999999994, 37.6689, 26.661763, 52.2296756, 40.107625299999995, 38.6970565, 38.722252399999995, 41.1579438, -26.2041028, 38.544907, 41.6611, 59.3293235, 47.5619, 46.5198, 39.195, 33.8622, 52.480174, 39.9611755, 50.719164, 51.481581, 52.6333, 44.475882500000004, 32.780139899999995, 53.4575955, 40.12408, 37.226486, 40.9414, 39.737567, 35.9606, 42.358430799999994, 39.7047, 37.3797, 34.0522342, 36.1627, 37.4419, 39.952335, 37.8244, 38.6270025, 40.440624799999995, 37.540725, 34.0219, 47.6062095, 32.2217, 41.608629], \"locationmode\": \"ISO-3\", \"lon\": [-123.0867, 18.4239, -74.07583299999999, -122.6819, 10.404684, -122.4, 2.3522218999999995, -79.9414, -58.381593099999996, 138.600746, 144.96328, 8.672433999999999, 151.20699019999998, 11.3547975, -114.070846, -97.13749370000001, 9.995764, -79.3831843, 9.993681800000001, -79.866091, 12.2898, -78.5167, -123.11392679999999, 12.568337099999999, 12.488686, 24.9410248, -97.7431, 25.65, -78.8986, 106.84559899999999, 11.6189949, 7.668004600000001, 26.553613000000002, 12.518037, 12.4801802, 136.906398, -8.65731, 25.279651, -99.133208, 4.895168, -122.285247, -122.0808, -80.268357, 21.012228699999998, -3.3875672999999997, -9.422294500000001, -9.1393366, -8.6291053, 28.047305100000003, -121.740517, -91.5302, 18.068580800000003, 7.5928, 6.6335, -106.837, -118.3995, -1.902907, -82.9987942, -1.880769, -3.17909, -1.1333, -73.21207199999999, -96.80045109999999, -2.1578377, -75.119511, -76.00259399999999, -73.8644, -104.9847179, -83.9207, -71.05977320000001, -105.0814, -122.1375, -118.24368490000002, -86.7816, -122.14299999999999, -75.16378900000001, -122.2316, -90.1994042, -79.9958864, -77.436048, -118.4814, -122.33207079999998, -110.9265, -0.8870120000000001], \"marker\": {\"color\": [\"#84AD61\", \"#84AD61\", \"#84AD61\", \"#84AD61\", \"#84AD61\", \"#84AD61\", \"#84AD61\", \"#84AD61\", \"#84AD61\", \"#84AD61\", \"#84AD61\", \"#84AD61\", \"#84AD61\", \"#84AD61\", \"#84AD61\", \"#84AD61\", \"#84AD61\", \"#84AD61\", \"#84AD61\", \"#84AD61\", \"#84AD61\", \"#84AD61\", \"#84AD61\", \"#84AD61\", \"#84AD61\", \"#84AD61\", \"#84AD61\", \"#84AD61\", \"#84AD61\", \"#84AD61\", \"#84AD61\", \"#84AD61\", \"#84AD61\", \"#84AD61\", \"#84AD61\", \"#84AD61\", \"#84AD61\", \"#84AD61\", \"#84AD61\", \"#84AD61\", \"#84AD61\", \"#84AD61\", \"#84AD61\", \"#84AD61\", \"#84AD61\", \"#84AD61\", \"#84AD61\", \"#84AD61\", \"#84AD61\", \"#84AD61\", \"#84AD61\", \"#84AD61\", \"#84AD61\", \"#84AD61\", \"#84AD61\", \"#84AD61\", \"#84AD61\", \"#84AD61\", \"#84AD61\", \"#84AD61\", \"#84AD61\", \"#84AD61\", \"#84AD61\", \"#84AD61\", \"#84AD61\", \"#84AD61\", \"#84AD61\", \"#84AD61\", \"#84AD61\", \"#84AD61\", \"#84AD61\", \"#84AD61\", \"#84AD61\", \"#84AD61\", \"#84AD61\", \"#84AD61\", \"#84AD61\", \"#84AD61\", \"#84AD61\", \"#84AD61\", \"#84AD61\", \"#84AD61\", \"#84AD61\", \"#84AD61\"], \"size\": [8.02139037433155, 145.30810267379678, 79.31117345454544, 44.75643208556149, 0.0014438502673796792, 0.9498930481283422, 33.34115294117647, 12.652485561497326, 126.20616898395721, 3.1221882352941175, 28.058310160427805, 5.646417112299465, 22.82264598930481, 14.570211978609626, 116.8378524064171, 33.736844919786094, 2.675935828877005, 117.56769625668448, 0.11393582887700535, 105.68523850267378, 1.9058823529411764, 33.58299465240641, 15.674451336898395, 9.307110160427808, 2.323495187165775, 17.90197219251337, 87.91443850267379, 4.398673796791444, 29.072528342245988, 178.26737967914437, 10.155754844919784, 22.435225668449196, 0.002847850267379679, 0.07327700534759359, 64.22810053475935, 86.11764705882352, 0.6193026737967914, 12.79931550802139, 151.797503486631, 28.690909090909088, 1.0763294117647058, 6.729651336898395, 6.962432085561497, 75.21994010695187, 65.82062887700535, 3.6281197860962564, 12.413011764705882, 6.545454545454545, 158.6099229946524, 2.235381818181818, 8.33339037433155, 16.11336898395722, 5.684778609625668, 3.2058160427807483, 2.530530481283422, 0.8124770053475935, 0.03336705882352941, 70.48299465240642, 5.022352941176471, 13.65561497326203, 11.034866310160426, 2.601402994652406, 110.56291764705881, 95.54642566844919, 3.947961497326203, 15.918930481283422, 8.012727272727272, 57.381818181818176, 25.667640641711227, 38.92737112299465, 11.08787165775401, 0.36733475935828874, 186.2554459893048, 78.77547593582887, 0.9794502673796791, 123.29114477005346, 0.278772192513369, 55.85248633155079, 30.821685561497326, 20.22993368983957, 4.526906951871657, 33.510160427807484, 42.73219893048128, 11.458419786096256], \"sizemode\": \"area\"}, \"name\": \"GHE Decreased\", \"text\": [\"Eugene, USA<br>1.25 million tonnes C02e\", \"Cape Town, South Africa<br>22.643846 million tonnes C02e\", \"Bogot\\u00e1 , Colombia<br>12.359324529999999 million tonnes C02e\", \"Portland, OR, USA<br>6.974544 million tonnes C02e\", \"City of \\u00c6r\\u00f8sk\\u00f8bing, Denmark<br>0.000225 million tonnes C02e\", \"Brisbane, CA, USA<br>0.148025 million tonnes C02e\", \"Paris, France<br>5.195663 million tonnes C02e\", \"Roanoke, USA<br>1.971679 million tonnes C02e\", \"Buenos Aires, Argentina<br>19.667128 million tonnes C02e\", \"Adelaide, Australia<br>0.486541 million tonnes C02e\", \"Melbourne, Australia<br>4.37242 million tonnes C02e\", \"Stadt Heidelberg, Germany<br>0.8799 million tonnes C02e\", \"Sydney, Australia<br>3.556529 million tonnes C02e\", \"Bologna, Italy<br>2.2705247 million tonnes C02e\", \"Calgary, Canada<br>18.207232 million tonnes C02e\", \"City of Winnipeg, Canada<br>5.257325 million tonnes C02e\", \"Hj\\u00f8rring, Denmark<br>0.417 million tonnes C02e\", \"Toronto, Canada<br>18.320966 million tonnes C02e\", \"Hamburg, Germany<br>0.017755 million tonnes C02e\", \"Hamilton, Canada<br>16.469283 million tonnes C02e\", \"Hoeje-Taastrup Kommune, Denmark<br>0.297 million tonnes C02e\", \"Distrito Metropolitano de Quito, Ecuador<br>5.23335 million tonnes C02e\", \"Vancouver, Canada<br>2.442602 million tonnes C02e\", \"Copenhagen, Denmark<br>1.450358 million tonnes C02e\", \"Gladsaxe Kommune, Denmark<br>0.362078 million tonnes C02e\", \"Helsinki, Finland<br>2.789724 million tonnes C02e\", \"Austin, USA<br>13.7 million tonnes C02e\", \"Lahti, Finland<br>0.68546 million tonnes C02e\", \"Durham, USA<br>4.530469 million tonnes C02e\", \"Jakarta , Indonesia<br>27.78 million tonnes C02e\", \"Ferrara, Italy<br>1.58260513 million tonnes C02e\", \"Torino, Italy<br>3.496156 million tonnes C02e\", \"Kadiovacik, Turkey<br>0.00044379 million tonnes C02e\", \"Ravenna, Italy<br>0.011419 million tonnes C02e\", \"Roma , Italy<br>10.008879 million tonnes C02e\", \"Nagoya, Japan<br>13.42 million tonnes C02e\", \"Moita, Portugal<br>0.096508 million tonnes C02e\", \"Vilnius , Lithuania<br>1.99456 million tonnes C02e\", \"Mexico City, Mexico<br>23.655110960000002 million tonnes C02e\", \"Amsterdam, Netherlands<br>4.471 million tonnes C02e\", \"Emeryville, CA, USA<br>0.167728 million tonnes C02e\", \"Hayward, USA<br>1.048704 million tonnes C02e\", \"Wellington, New Zealand<br>1.084979 million tonnes C02e\", \"Warsaw, Poland<br>11.721774 million tonnes C02e\", \"Madrid, Spain<br>10.257048 million tonnes C02e\", \"Cascais, Portugal<br>0.565382 million tonnes C02e\", \"Lisbon, Portugal<br>1.934361 million tonnes C02e\", \"Porto, Portugal<br>1.02 million tonnes C02e\", \"Johannesburg, South Africa<br>24.716713 million tonnes C02e\", \"Davis, CA, USA<br>0.348347 million tonnes C02e\", \"Iowa , USA<br>1.29862 million tonnes C02e\", \"Stockholm, Sweden<br>2.511 million tonnes C02e\", \"Basel-Stadt, Switzerland<br>0.885878 million tonnes C02e\", \"Lausanne, Switzerland<br>0.499573 million tonnes C02e\", \"Aspen and Pitkin County, USA<br>0.394341 million tonnes C02e\", \"Hermosa Beach, CA, USA<br>0.126611 million tonnes C02e\", \"Birmingham, United Kingdom<br>0.0051997 million tonnes C02e\", \"Columbus, USA<br>10.9836 million tonnes C02e\", \"Bournemouth, United Kingdom<br>0.78265 million tonnes C02e\", \"Cardiff, United Kingdom<br>2.128 million tonnes C02e\", \"Leicester, United Kingdom<br>1.7196 million tonnes C02e\", \"Burlington, USA<br>0.4053853 million tonnes C02e\", \"Dallas, USA<br>17.229388 million tonnes C02e\", \"Manchester, United Kingdom<br>14.889318 million tonnes C02e\", \"Abington , USA<br>0.615224 million tonnes C02e\", \"Arlington, VA, USA<br>2.4807 million tonnes C02e\", \"Yonkers, USA<br>1.24865 million tonnes C02e\", \"Denver, USA<br>8.942 million tonnes C02e\", \"Knoxville, USA<br>3.999874 million tonnes C02e\", \"Boston, USA<br>6.066182 million tonnes C02e\", \"Lakewood, USA<br>1.72786 million tonnes C02e\", \"Los Altos Hills, USA<br>0.057243 million tonnes C02e\", \"Los Angeles, USA<br>29.024807 million tonnes C02e\", \"Nashville and Davidson , USA<br>12.275845 million tonnes C02e\", \"Palo Alto, USA<br>0.152631 million tonnes C02e\", \"Philadelphia, USA<br>19.21287006 million tonnes C02e\", \"Piedmont, CA, USA<br>0.043442 million tonnes C02e\", \"St Louis, USA<br>8.703679119999999 million tonnes C02e\", \"Pittsburgh, USA<br>4.803046 million tonnes C02e\", \"Richmond, VA, USA<br>3.152498 million tonnes C02e\", \"Santa Monica, USA<br>0.705443 million tonnes C02e\", \"Seattle, USA<br>5.222 million tonnes C02e\", \"Tucson, USA<br>6.659101 million tonnes C02e\", \"Zaragoza, Spain<br>1.78560375 million tonnes C02e\"], \"type\": \"scattergeo\"}, {\"lat\": [-10.249091, 13.756464999999999, 34.655146, 42.258634, 38.890603999999996, 3.451647, 34.385203000000004, 56.168393, 43.710173, 52.08889, 35.2141598, 37.98381, -16.686891199999998, -3.6727220000000003, -33.448890000000006, 42.314937, -8.057838, -12.97304, -2.170998, 9.028874, 49.32699, 44.309058, 37.566534999999995, 48.692054, 53.34447900000001, 44.347961, 45.802578000000004, 31.945366999999997, 45.0519969, -12.046374, 29.4241, -22.808027, 46.056946999999994, 6.524379, 40.575302, 39.236669, 38.763669, 39.767625, 29.760192699999998, 40.0274, 42.6526, 39.2903848, 37.2296, 41.499320000000004, 40.037875, 38.6682, 29.9511, 32.0835, 34.09, 39.5296, 37.7749295, 42.393449, -16.5, -23.4774899], \"locationmode\": \"ISO-3\", \"lon\": [-48.324286, 121.05830800000001, 133.919502, -87.840625, -90.184276, -76.53198499999999, 132.45529299999998, 10.137373, 7.261953, 11.586164, 33.294754100000006, 23.727539, -49.2647943, -45.3831, -70.669265, -83.036363, -34.882897, -38.502303999999995, -79.922359, 38.754366, -123.07328000000001, -78.31974699999999, 126.9779692, 6.184417, -6.270843, 9.318415, 9.086356, 35.928371999999996, 9.6926451, -77.042793, -98.4936, -45.19422, 14.505751, 3.379206, -8.445822, -8.685994, -9.30148, -86.17846899999999, -95.36938959999999, -105.2519, -73.7562, -76.6121893, -80.4139, -81.6943605, -76.305514, -90.3325, -90.0715, -81.0998, -118.3617, -119.8138, -122.4194155, -71.082647, -68.15, -47.4220615], \"marker\": {\"color\": [\"#CAC9C1\", \"#CAC9C1\", \"#CAC9C1\", \"#CAC9C1\", \"#CAC9C1\", \"#CAC9C1\", \"#CAC9C1\", \"#CAC9C1\", \"#CAC9C1\", \"#CAC9C1\", \"#CAC9C1\", \"#CAC9C1\", \"#CAC9C1\", \"#CAC9C1\", \"#CAC9C1\", \"#CAC9C1\", \"#CAC9C1\", \"#CAC9C1\", \"#CAC9C1\", \"#CAC9C1\", \"#CAC9C1\", \"#CAC9C1\", \"#CAC9C1\", \"#CAC9C1\", \"#CAC9C1\", \"#CAC9C1\", \"#CAC9C1\", \"#CAC9C1\", \"#CAC9C1\", \"#CAC9C1\", \"#CAC9C1\", \"#CAC9C1\", \"#CAC9C1\", \"#CAC9C1\", \"#CAC9C1\", \"#CAC9C1\", \"#CAC9C1\", \"#CAC9C1\", \"#CAC9C1\", \"#CAC9C1\", \"#CAC9C1\", \"#CAC9C1\", \"#CAC9C1\", \"#CAC9C1\", \"#CAC9C1\", \"#CAC9C1\", \"#CAC9C1\", \"#CAC9C1\", \"#CAC9C1\", \"#CAC9C1\", \"#CAC9C1\", \"#CAC9C1\", \"#CAC9C1\", \"#CAC9C1\"], \"size\": [4.013208064171122, 2.934468449197861, 44.3807486631016, 2.582014973262032, 2.573768983957219, 26.78892834224599, 55.67125347593583, 0.012192513368983957, 21.511148663101604, 8.983957219251336, 4.868194652406417, 30.23471229946524, 12.938951871657753, 18.154832085561495, 148.3638147593583, 15.886864171122994, 0.012083422459893047, 23.736667379679144, 43.555341176470584, 23.796526203208554, 1.2631443850267379, 1.8164342245989304, 305.53581176470584, 13.796791443850266, 18.88138395721925, 11.617347593582886, 38.35366203208556, 46.30207700534759, 3.9494245989304813, 99.02955080213903, 100.97173475935828, 3.517835165775401, 13.346040641711229, 188.8316534759358, 1.6612748663101604, 2.1286652406417113, 1.6705732620320854, 13.863304684491977, 214.5131614973262, 11.050241711229946, 7.810209625668449, 48.63621818181818, 2.4625485561497324, 76.29686631016042, 2.3471422459893048, 3.215916577540107, 29.252887700534757, 23.16286203208556, 3.742543315508021, 28.476994652406415, 34.53488983957219, 3.762404278074866, 9.154227593582888, 7.148477005347593], \"sizemode\": \"area\"}, \"name\": \"Other\", \"text\": [\"Palmas, Brazil<br>0.62539159 million tonnes C02e\", \"Batangas, Philippines<br>0.457288 million tonnes C02e\", \"Okayama, Japan<br>6.916 million tonnes C02e\", \"Lake Forest, IL, USA<br>0.402364 million tonnes C02e\", \"Alton, IL, USA<br>0.401079 million tonnes C02e\", \"Santiago de Cali, Colombia<br>4.174608 million tonnes C02e\", \"Hiroshima, Japan<br>8.675437 million tonnes C02e\", \"Aarhus Kommune, Denmark<br>0.0019 million tonnes C02e\", \"Nice C\\u00f4te d'Azur, France<br>3.352154 million tonnes C02e\", \"Landeshauptstadt Magdeburg, Germany<br>1.4 million tonnes C02e\", \"Bornova , Turkey<br>0.758627 million tonnes C02e\", \"Athens, Greece<br>4.711576 million tonnes C02e\", \"Goi\\u00e2nia, Brazil<br>2.01632 million tonnes C02e\", \"Porto Alegre, Brazil<br>2.829128 million tonnes C02e\", \"Regi\\u00f3n Metropolitana de Santiago, Chile<br>23.1200278 million tonnes C02e\", \"Windsor, Canada<br>2.475703 million tonnes C02e\", \"Recife, Brazil<br>0.001883 million tonnes C02e\", \"Salvador, Brazil<br>3.698964 million tonnes C02e\", \"Santiago de Guayaquil, Ecuador<br>6.787374 million tonnes C02e\", \"Addis Ababa, Ethiopia<br>3.708292 million tonnes C02e\", \"North Vancouver, Canada<br>0.19684 million tonnes C02e\", \"Peterborough, Canada<br>0.283061 million tonnes C02e\", \"Seoul , South Korea<br>47.612664 million tonnes C02e\", \"Communaut\\u00e9 urbaine du Grand Nancy, France<br>2.15 million tonnes C02e\", \"Dublin, Ireland<br>2.942349 million tonnes C02e\", \"Genova, Italy<br>1.81037 million tonnes C02e\", \"Milano, Italy<br>5.976779 million tonnes C02e\", \"Amman , Jordan<br>7.215407 million tonnes C02e\", \"Piacenza, Italy<br>0.615452 million tonnes C02e\", \"Lima, Peru<br>15.432105 million tonnes C02e\", \"San Antonio, USA<br>15.734762 million tonnes C02e\", \"Guaratinguet\\u00e1, Brazil<br>0.54819598 million tonnes C02e\", \"Ljubljana, Slovenia<br>2.079758 million tonnes C02e\", \"Lagos, Nigeria<br>29.426266 million tonnes C02e\", \"\\u00c1gueda, Portugal<br>0.258882 million tonnes C02e\", \"Santar\\u00e9m, Portugal<br>0.331717 million tonnes C02e\", \"Torres Vedras , Portugal<br>0.260331 million tonnes C02e\", \"Indianapolis, USA<br>2.1603649799999998 million tonnes C02e\", \"Houston, USA<br>33.428301 million tonnes C02e\", \"Boulder, USA<br>1.721996 million tonnes C02e\", \"Albany, USA<br>1.217091 million tonnes C02e\", \"Baltimore, USA<br>7.579144 million tonnes C02e\", \"Blacksburg, USA<br>0.38374715000000004 million tonnes C02e\", \"Cleveland, USA<br>11.889595 million tonnes C02e\", \"Lancaster, PA, USA<br>0.365763 million tonnes C02e\", \"University City, MO, USA<br>0.501147 million tonnes C02e\", \"New Orleans, USA<br>4.558575 million tonnes C02e\", \"Savannah, USA<br>3.609546 million tonnes C02e\", \"West Hollywood, USA<br>0.583213 million tonnes C02e\", \"Reno, USA<br>4.437665 million tonnes C02e\", \"San Francisco, USA<br>5.381687 million tonnes C02e\", \"Somerville, MA, USA<br>0.586308 million tonnes C02e\", \"La Paz, Bolivia<br>1.4265338 million tonnes C02e\", \"Sorocaba, Brazil<br>1.113971 million tonnes C02e\"], \"type\": \"scattergeo\"}, {\"lat\": [46.0667, 45.508669899999994, 60.451812600000004, 45.433251500000004, 35.6896342, 37.019355, 24.702107, 47.36864979999999, 22.629704999999998, 35.1992, 32.718146000000004, 42.331427000000005, 41.8781136], \"locationmode\": \"ISO-3\", \"lon\": [13.2333, -73.5539925, 22.266630300000003, 12.3210704, 139.6921007, -7.930439999999999, 121.73775, 8.539182499999999, 120.343804, -111.6311, -117.1701, -83.0457538, -87.62979820000001], \"marker\": {\"color\": [\"#FFC300\", \"#FFC300\", \"#FFC300\", \"#FFC300\", \"#FFC300\", \"#FFC300\", \"#FFC300\", \"#FFC300\", \"#FFC300\", \"#FFC300\", \"#FFC300\", \"#FFC300\", \"#FFC300\"], \"size\": [3.937463101604278, 88.06165989304812, 7.1069518716577535, 9.101672727272726, 450.0, 0.0017059893048128342, 52.49555088770053, 11.69433368983957, 377.0423366631016, 7.775085368983957, 81.01108235294117, 66.2844192513369, 214.97326203208556], \"sizemode\": \"area\"}, \"name\": \"GHE Stayed the same\", \"text\": [\"Udine, Italy<br>0.613588 million tonnes C02e\", \"Montreal, Canada<br>13.722942 million tonnes C02e\", \"Turku, Finland<br>1.1075 million tonnes C02e\", \"Venezia, Italy<br>1.418344 million tonnes C02e\", \"Tokyo, Japan<br>70.125 million tonnes C02e\", \"Faro, Portugal<br>0.00026585000000000004 million tonnes C02e\", \"Yilan , Taiwan<br>8.18055668 million tonnes C02e\", \"Stadt Z\\u00fcrich, Switzerland<br>1.822367 million tonnes C02e\", \"Kaohsiung, Taiwan<br>58.75576413 million tonnes C02e\", \"Flagstaff, USA<br>1.21161747 million tonnes C02e\", \"San Diego, USA<br>12.624227 million tonnes C02e\", \"Detroit, USA<br>10.329322 million tonnes C02e\", \"Chicago, USA<br>33.5 million tonnes C02e\"], \"type\": \"scattergeo\"}, {\"lat\": [-29.8586804, -35.3075, -19.916681, -25.431063, -27.594988399999995, -22.9054389, 43.850854999999996, 53.544389, 42.9837, -6.5971470000000005, 22.288080899999997, 64.12652, 35.4437078, 37.263572700000005, 22.173333, 51.9163716, -36.815328, 59.913868799999996, 14.559004000000002, 38.660815, 24.993628, -25.746111, 37.456255999999996, 25.0111, 22.551976, 25.037525, 51.504858, 33.7489954, 38.049365, 38.9071923, 36.169941200000004, 44.983334, 40.7127837, 37.8044, 10.469640400000001, -15.794229000000001], \"locationmode\": \"ISO-3\", \"lon\": [31.0218404, 149.1244, -43.934492999999996, -49.264693, -48.54817429999999, -43.5614471, -79.02037299999999, -113.4909267, -81.2497, 106.80603899999998, 114.13980149999999, -21.817439999999998, 139.6380256, 127.02860090000001, -100.97005, 4.4509382, 174.74178799999999, 10.7522454, 121.08163200000001, -9.079072, 121.30098000000001, 28.188056, 126.705206, 121.4458, 120.54876000000002, 121.563782, -0.078689, -84.3879824, -122.1585777, -77.03687070000001, -115.13982959999998, -93.26666999999999, -74.00594129999999, -122.2708, -66.8037185, -47.882166], \"marker\": {\"color\": [\"#FF5733\", \"#FF5733\", \"#FF5733\", \"#FF5733\", \"#FF5733\", \"#FF5733\", \"#FF5733\", \"#FF5733\", \"#FF5733\", \"#FF5733\", \"#FF5733\", \"#FF5733\", \"#FF5733\", \"#FF5733\", \"#FF5733\", \"#FF5733\", \"#FF5733\", \"#FF5733\", \"#FF5733\", \"#FF5733\", \"#FF5733\", \"#FF5733\", \"#FF5733\", \"#FF5733\", \"#FF5733\", \"#FF5733\", \"#FF5733\", \"#FF5733\", \"#FF5733\", \"#FF5733\", \"#FF5733\", \"#FF5733\", \"#FF5733\", \"#FF5733\", \"#FF5733\", \"#FF5733\"], \"size\": [144.94383529411763, 25.693475935828875, 20.802436363636364, 19.48414331550802, 9.307796791443849, 130.06232085561496, 3.4577711229946524, 106.37455828877005, 19.700534759358288, 14.076847058823528, 274.01069518716577, 2.2243636363636363, 140.85561497326202, 37.05981818181818, 8.474630951871656, 202.21604278074864, 67.20099465240641, 8.601638502673795, 10.6547807486631, 1.8664106951871657, 192.98664551871659, 97.77557005347593, 447.8768342245989, 110.5920256684492, 29.549550802139034, 95.98334117647059, 257.903743315508, 57.9095294117647, 4.4195037433155075, 47.399403208556144, 190.31313368983956, 30.76817967914438, 316.91235080213903, 17.542228877005346, 114.06273368983956, 4.966735828877005], \"sizemode\": \"area\"}, \"name\": \"GHE Increased\", \"text\": [\"Durban, South Africa<br>22.587081 million tonnes C02e\", \"Canberra, Australia<br>4.0039 million tonnes C02e\", \"Belo Horizonte, Brazil<br>3.241713 million tonnes C02e\", \"Curitiba, Brazil<br>3.036279 million tonnes C02e\", \"Florian\\u00f3polis, Brazil<br>1.450465 million tonnes C02e\", \"Rio de Janeiro, Brazil<br>20.268045 million tonnes C02e\", \"Ajax, ON, Canada<br>0.538836 million tonnes C02e\", \"Edmonton, Canada<br>16.576702 million tonnes C02e\", \"London, ON, Canada<br>3.07 million tonnes C02e\", \"Bogor , Indonesia<br>2.193642 million tonnes C02e\", \"Hong Kong, Hong Kong<br>42.7 million tonnes C02e\", \"Reykjav\\u00edk, Iceland<br>0.34663 million tonnes C02e\", \"Yokohama, Japan<br>21.95 million tonnes C02e\", \"Suwon , South Korea<br>5.775155 million tonnes C02e\", \"San Luis Potos\\u00ed, Mexico<br>1.32062999 million tonnes C02e\", \"Rotterdam, Netherlands<br>31.512 million tonnes C02e\", \"Auckland , New Zealand<br>10.472155 million tonnes C02e\", \"Oslo, Norway<br>1.340422 million tonnes C02e\", \"Makati, Philippines<br>1.66037 million tonnes C02e\", \"Barreiro, Portugal<br>0.290849 million tonnes C02e\", \"Taoyuan , Taiwan<br>30.073752260000003 million tonnes C02e\", \"Pretoria - Tshwane, South Africa<br>15.236693 million tonnes C02e\", \"Incheon , South Korea<br>69.79414 million tonnes C02e\", \"New Taipei , Taiwan<br>17.233924 million tonnes C02e\", \"Pingtung , Taiwan<br>4.604805 million tonnes C02e\", \"Taipei City, Taiwan<br>14.957404 million tonnes C02e\", \"London , United Kingdom<br>40.19 million tonnes C02e\", \"Atlanta, USA<br>9.024235 million tonnes C02e\", \"Benicia, USA<br>0.688706 million tonnes C02e\", \"District of Columbia, USA<br>7.386407 million tonnes C02e\", \"Las Vegas, USA<br>29.65713 million tonnes C02e\", \"Minneapolis, USA<br>4.794708 million tonnes C02e\", \"New York City, USA<br>49.385508 million tonnes C02e\", \"Oakland, USA<br>2.733664 million tonnes C02e\", \"Alcald\\u00eda Metropolitana de Caracas, Venezuela<br>17.774776 million tonnes C02e\", \"Bras\\u00edlia, Brazil<br>0.773983 million tonnes C02e\"], \"type\": \"scattergeo\"}, {\"lat\": [44.0519, -33.9253, 4.598056, 45.52, 54.891456000000005, 37.6808, 48.856614, 37.271, -34.603723200000005, -34.928499, -37.814107, 49.398752, -33.8674869, 44.48560870000001, 51.048615000000005, 49.8997541, 57.456779000000004, 43.653226000000004, 53.5510846, 43.250021000000004, 55.656328, -0.2333, 49.261226, 55.676096799999996, 55.733461, 60.17332439999999, 30.2672, 60.9833, 35.994, -6.2087634000000005, 44.8357395, 45.100637400000004, 38.3434574, 41.913028000000004, 41.8723889, 35.181446, 41.30284, 54.68715600000001, 19.4326077, 52.370216, 37.831315999999994, 37.6689, 26.661763, 52.2296756, 40.107625299999995, 38.6970565, 38.722252399999995, 41.1579438, -26.2041028, 38.544907, 41.6611, 59.3293235, 47.5619, 46.5198, 39.195, 33.8622, 52.480174, 39.9611755, 50.719164, 51.481581, 52.6333, 44.475882500000004, 32.780139899999995, 53.4575955, 40.12408, 37.226486, 40.9414, 39.737567, 35.9606, 42.358430799999994, 39.7047, 37.3797, 34.0522342, 36.1627, 37.4419, 39.952335, 37.8244, 38.6270025, 40.440624799999995, 37.540725, 34.0219, 47.6062095, 32.2217, 41.608629], \"locationmode\": \"ISO-3\", \"lon\": [-123.0867, 18.4239, -74.07583299999999, -122.6819, 10.404684, -122.4, 2.3522218999999995, -79.9414, -58.381593099999996, 138.600746, 144.96328, 8.672433999999999, 151.20699019999998, 11.3547975, -114.070846, -97.13749370000001, 9.995764, -79.3831843, 9.993681800000001, -79.866091, 12.2898, -78.5167, -123.11392679999999, 12.568337099999999, 12.488686, 24.9410248, -97.7431, 25.65, -78.8986, 106.84559899999999, 11.6189949, 7.668004600000001, 26.553613000000002, 12.518037, 12.4801802, 136.906398, -8.65731, 25.279651, -99.133208, 4.895168, -122.285247, -122.0808, -80.268357, 21.012228699999998, -3.3875672999999997, -9.422294500000001, -9.1393366, -8.6291053, 28.047305100000003, -121.740517, -91.5302, 18.068580800000003, 7.5928, 6.6335, -106.837, -118.3995, -1.902907, -82.9987942, -1.880769, -3.17909, -1.1333, -73.21207199999999, -96.80045109999999, -2.1578377, -75.119511, -76.00259399999999, -73.8644, -104.9847179, -83.9207, -71.05977320000001, -105.0814, -122.1375, -118.24368490000002, -86.7816, -122.14299999999999, -75.16378900000001, -122.2316, -90.1994042, -79.9958864, -77.436048, -118.4814, -122.33207079999998, -110.9265, -0.8870120000000001], \"marker\": {\"color\": [\"#84AD61\", \"#84AD61\", \"#84AD61\", \"#84AD61\", \"#84AD61\", \"#84AD61\", \"#84AD61\", \"#84AD61\", \"#84AD61\", \"#84AD61\", \"#84AD61\", \"#84AD61\", \"#84AD61\", \"#84AD61\", \"#84AD61\", \"#84AD61\", \"#84AD61\", \"#84AD61\", \"#84AD61\", \"#84AD61\", \"#84AD61\", \"#84AD61\", \"#84AD61\", \"#84AD61\", \"#84AD61\", \"#84AD61\", \"#84AD61\", \"#84AD61\", \"#84AD61\", \"#84AD61\", \"#84AD61\", \"#84AD61\", \"#84AD61\", \"#84AD61\", \"#84AD61\", \"#84AD61\", \"#84AD61\", \"#84AD61\", \"#84AD61\", \"#84AD61\", \"#84AD61\", \"#84AD61\", \"#84AD61\", \"#84AD61\", \"#84AD61\", \"#84AD61\", \"#84AD61\", \"#84AD61\", \"#84AD61\", \"#84AD61\", \"#84AD61\", \"#84AD61\", \"#84AD61\", \"#84AD61\", \"#84AD61\", \"#84AD61\", \"#84AD61\", \"#84AD61\", \"#84AD61\", \"#84AD61\", \"#84AD61\", \"#84AD61\", \"#84AD61\", \"#84AD61\", \"#84AD61\", \"#84AD61\", \"#84AD61\", \"#84AD61\", \"#84AD61\", \"#84AD61\", \"#84AD61\", \"#84AD61\", \"#84AD61\", \"#84AD61\", \"#84AD61\", \"#84AD61\", \"#84AD61\", \"#84AD61\", \"#84AD61\", \"#84AD61\", \"#84AD61\", \"#84AD61\", \"#84AD61\", \"#84AD61\"], \"size\": [8.02139037433155, 145.30810267379678, 79.31117345454544, 44.75643208556149, 0.0014438502673796792, 0.9498930481283422, 33.34115294117647, 12.652485561497326, 126.20616898395721, 3.1221882352941175, 28.058310160427805, 5.646417112299465, 22.82264598930481, 14.570211978609626, 116.8378524064171, 33.736844919786094, 2.675935828877005, 117.56769625668448, 0.11393582887700535, 105.68523850267378, 1.9058823529411764, 33.58299465240641, 15.674451336898395, 9.307110160427808, 2.323495187165775, 17.90197219251337, 87.91443850267379, 4.398673796791444, 29.072528342245988, 178.26737967914437, 10.155754844919784, 22.435225668449196, 0.002847850267379679, 0.07327700534759359, 64.22810053475935, 86.11764705882352, 0.6193026737967914, 12.79931550802139, 151.797503486631, 28.690909090909088, 1.0763294117647058, 6.729651336898395, 6.962432085561497, 75.21994010695187, 65.82062887700535, 3.6281197860962564, 12.413011764705882, 6.545454545454545, 158.6099229946524, 2.235381818181818, 8.33339037433155, 16.11336898395722, 5.684778609625668, 3.2058160427807483, 2.530530481283422, 0.8124770053475935, 0.03336705882352941, 70.48299465240642, 5.022352941176471, 13.65561497326203, 11.034866310160426, 2.601402994652406, 110.56291764705881, 95.54642566844919, 3.947961497326203, 15.918930481283422, 8.012727272727272, 57.381818181818176, 25.667640641711227, 38.92737112299465, 11.08787165775401, 0.36733475935828874, 186.2554459893048, 78.77547593582887, 0.9794502673796791, 123.29114477005346, 0.278772192513369, 55.85248633155079, 30.821685561497326, 20.22993368983957, 4.526906951871657, 33.510160427807484, 42.73219893048128, 11.458419786096256], \"sizemode\": \"area\"}, \"name\": \"GHE Decreased\", \"text\": [\"Eugene, USA<br>1.25 million tonnes C02e\", \"Cape Town, South Africa<br>22.643846 million tonnes C02e\", \"Bogot\\u00e1 , Colombia<br>12.359324529999999 million tonnes C02e\", \"Portland, OR, USA<br>6.974544 million tonnes C02e\", \"City of \\u00c6r\\u00f8sk\\u00f8bing, Denmark<br>0.000225 million tonnes C02e\", \"Brisbane, CA, USA<br>0.148025 million tonnes C02e\", \"Paris, France<br>5.195663 million tonnes C02e\", \"Roanoke, USA<br>1.971679 million tonnes C02e\", \"Buenos Aires, Argentina<br>19.667128 million tonnes C02e\", \"Adelaide, Australia<br>0.486541 million tonnes C02e\", \"Melbourne, Australia<br>4.37242 million tonnes C02e\", \"Stadt Heidelberg, Germany<br>0.8799 million tonnes C02e\", \"Sydney, Australia<br>3.556529 million tonnes C02e\", \"Bologna, Italy<br>2.2705247 million tonnes C02e\", \"Calgary, Canada<br>18.207232 million tonnes C02e\", \"City of Winnipeg, Canada<br>5.257325 million tonnes C02e\", \"Hj\\u00f8rring, Denmark<br>0.417 million tonnes C02e\", \"Toronto, Canada<br>18.320966 million tonnes C02e\", \"Hamburg, Germany<br>0.017755 million tonnes C02e\", \"Hamilton, Canada<br>16.469283 million tonnes C02e\", \"Hoeje-Taastrup Kommune, Denmark<br>0.297 million tonnes C02e\", \"Distrito Metropolitano de Quito, Ecuador<br>5.23335 million tonnes C02e\", \"Vancouver, Canada<br>2.442602 million tonnes C02e\", \"Copenhagen, Denmark<br>1.450358 million tonnes C02e\", \"Gladsaxe Kommune, Denmark<br>0.362078 million tonnes C02e\", \"Helsinki, Finland<br>2.789724 million tonnes C02e\", \"Austin, USA<br>13.7 million tonnes C02e\", \"Lahti, Finland<br>0.68546 million tonnes C02e\", \"Durham, USA<br>4.530469 million tonnes C02e\", \"Jakarta , Indonesia<br>27.78 million tonnes C02e\", \"Ferrara, Italy<br>1.58260513 million tonnes C02e\", \"Torino, Italy<br>3.496156 million tonnes C02e\", \"Kadiovacik, Turkey<br>0.00044379 million tonnes C02e\", \"Ravenna, Italy<br>0.011419 million tonnes C02e\", \"Roma , Italy<br>10.008879 million tonnes C02e\", \"Nagoya, Japan<br>13.42 million tonnes C02e\", \"Moita, Portugal<br>0.096508 million tonnes C02e\", \"Vilnius , Lithuania<br>1.99456 million tonnes C02e\", \"Mexico City, Mexico<br>23.655110960000002 million tonnes C02e\", \"Amsterdam, Netherlands<br>4.471 million tonnes C02e\", \"Emeryville, CA, USA<br>0.167728 million tonnes C02e\", \"Hayward, USA<br>1.048704 million tonnes C02e\", \"Wellington, New Zealand<br>1.084979 million tonnes C02e\", \"Warsaw, Poland<br>11.721774 million tonnes C02e\", \"Madrid, Spain<br>10.257048 million tonnes C02e\", \"Cascais, Portugal<br>0.565382 million tonnes C02e\", \"Lisbon, Portugal<br>1.934361 million tonnes C02e\", \"Porto, Portugal<br>1.02 million tonnes C02e\", \"Johannesburg, South Africa<br>24.716713 million tonnes C02e\", \"Davis, CA, USA<br>0.348347 million tonnes C02e\", \"Iowa , USA<br>1.29862 million tonnes C02e\", \"Stockholm, Sweden<br>2.511 million tonnes C02e\", \"Basel-Stadt, Switzerland<br>0.885878 million tonnes C02e\", \"Lausanne, Switzerland<br>0.499573 million tonnes C02e\", \"Aspen and Pitkin County, USA<br>0.394341 million tonnes C02e\", \"Hermosa Beach, CA, USA<br>0.126611 million tonnes C02e\", \"Birmingham, United Kingdom<br>0.0051997 million tonnes C02e\", \"Columbus, USA<br>10.9836 million tonnes C02e\", \"Bournemouth, United Kingdom<br>0.78265 million tonnes C02e\", \"Cardiff, United Kingdom<br>2.128 million tonnes C02e\", \"Leicester, United Kingdom<br>1.7196 million tonnes C02e\", \"Burlington, USA<br>0.4053853 million tonnes C02e\", \"Dallas, USA<br>17.229388 million tonnes C02e\", \"Manchester, United Kingdom<br>14.889318 million tonnes C02e\", \"Abington , USA<br>0.615224 million tonnes C02e\", \"Arlington, VA, USA<br>2.4807 million tonnes C02e\", \"Yonkers, USA<br>1.24865 million tonnes C02e\", \"Denver, USA<br>8.942 million tonnes C02e\", \"Knoxville, USA<br>3.999874 million tonnes C02e\", \"Boston, USA<br>6.066182 million tonnes C02e\", \"Lakewood, USA<br>1.72786 million tonnes C02e\", \"Los Altos Hills, USA<br>0.057243 million tonnes C02e\", \"Los Angeles, USA<br>29.024807 million tonnes C02e\", \"Nashville and Davidson , USA<br>12.275845 million tonnes C02e\", \"Palo Alto, USA<br>0.152631 million tonnes C02e\", \"Philadelphia, USA<br>19.21287006 million tonnes C02e\", \"Piedmont, CA, USA<br>0.043442 million tonnes C02e\", \"St Louis, USA<br>8.703679119999999 million tonnes C02e\", \"Pittsburgh, USA<br>4.803046 million tonnes C02e\", \"Richmond, VA, USA<br>3.152498 million tonnes C02e\", \"Santa Monica, USA<br>0.705443 million tonnes C02e\", \"Seattle, USA<br>5.222 million tonnes C02e\", \"Tucson, USA<br>6.659101 million tonnes C02e\", \"Zaragoza, Spain<br>1.78560375 million tonnes C02e\"], \"type\": \"scattergeo\"}, {\"lat\": [-10.249091, 13.756464999999999, 34.655146, 42.258634, 38.890603999999996, 3.451647, 34.385203000000004, 56.168393, 43.710173, 52.08889, 35.2141598, 37.98381, -16.686891199999998, -3.6727220000000003, -33.448890000000006, 42.314937, -8.057838, -12.97304, -2.170998, 9.028874, 49.32699, 44.309058, 37.566534999999995, 48.692054, 53.34447900000001, 44.347961, 45.802578000000004, 31.945366999999997, 45.0519969, -12.046374, 29.4241, -22.808027, 46.056946999999994, 6.524379, 40.575302, 39.236669, 38.763669, 39.767625, 29.760192699999998, 40.0274, 42.6526, 39.2903848, 37.2296, 41.499320000000004, 40.037875, 38.6682, 29.9511, 32.0835, 34.09, 39.5296, 37.7749295, 42.393449, -16.5, -23.4774899], \"locationmode\": \"ISO-3\", \"lon\": [-48.324286, 121.05830800000001, 133.919502, -87.840625, -90.184276, -76.53198499999999, 132.45529299999998, 10.137373, 7.261953, 11.586164, 33.294754100000006, 23.727539, -49.2647943, -45.3831, -70.669265, -83.036363, -34.882897, -38.502303999999995, -79.922359, 38.754366, -123.07328000000001, -78.31974699999999, 126.9779692, 6.184417, -6.270843, 9.318415, 9.086356, 35.928371999999996, 9.6926451, -77.042793, -98.4936, -45.19422, 14.505751, 3.379206, -8.445822, -8.685994, -9.30148, -86.17846899999999, -95.36938959999999, -105.2519, -73.7562, -76.6121893, -80.4139, -81.6943605, -76.305514, -90.3325, -90.0715, -81.0998, -118.3617, -119.8138, -122.4194155, -71.082647, -68.15, -47.4220615], \"marker\": {\"color\": [\"#CAC9C1\", \"#CAC9C1\", \"#CAC9C1\", \"#CAC9C1\", \"#CAC9C1\", \"#CAC9C1\", \"#CAC9C1\", \"#CAC9C1\", \"#CAC9C1\", \"#CAC9C1\", \"#CAC9C1\", \"#CAC9C1\", \"#CAC9C1\", \"#CAC9C1\", \"#CAC9C1\", \"#CAC9C1\", \"#CAC9C1\", \"#CAC9C1\", \"#CAC9C1\", \"#CAC9C1\", \"#CAC9C1\", \"#CAC9C1\", \"#CAC9C1\", \"#CAC9C1\", \"#CAC9C1\", \"#CAC9C1\", \"#CAC9C1\", \"#CAC9C1\", \"#CAC9C1\", \"#CAC9C1\", \"#CAC9C1\", \"#CAC9C1\", \"#CAC9C1\", \"#CAC9C1\", \"#CAC9C1\", \"#CAC9C1\", \"#CAC9C1\", \"#CAC9C1\", \"#CAC9C1\", \"#CAC9C1\", \"#CAC9C1\", \"#CAC9C1\", \"#CAC9C1\", \"#CAC9C1\", \"#CAC9C1\", \"#CAC9C1\", \"#CAC9C1\", \"#CAC9C1\", \"#CAC9C1\", \"#CAC9C1\", \"#CAC9C1\", \"#CAC9C1\", \"#CAC9C1\", \"#CAC9C1\"], \"size\": [4.013208064171122, 2.934468449197861, 44.3807486631016, 2.582014973262032, 2.573768983957219, 26.78892834224599, 55.67125347593583, 0.012192513368983957, 21.511148663101604, 8.983957219251336, 4.868194652406417, 30.23471229946524, 12.938951871657753, 18.154832085561495, 148.3638147593583, 15.886864171122994, 0.012083422459893047, 23.736667379679144, 43.555341176470584, 23.796526203208554, 1.2631443850267379, 1.8164342245989304, 305.53581176470584, 13.796791443850266, 18.88138395721925, 11.617347593582886, 38.35366203208556, 46.30207700534759, 3.9494245989304813, 99.02955080213903, 100.97173475935828, 3.517835165775401, 13.346040641711229, 188.8316534759358, 1.6612748663101604, 2.1286652406417113, 1.6705732620320854, 13.863304684491977, 214.5131614973262, 11.050241711229946, 7.810209625668449, 48.63621818181818, 2.4625485561497324, 76.29686631016042, 2.3471422459893048, 3.215916577540107, 29.252887700534757, 23.16286203208556, 3.742543315508021, 28.476994652406415, 34.53488983957219, 3.762404278074866, 9.154227593582888, 7.148477005347593], \"sizemode\": \"area\"}, \"name\": \"Other\", \"text\": [\"Palmas, Brazil<br>0.62539159 million tonnes C02e\", \"Batangas, Philippines<br>0.457288 million tonnes C02e\", \"Okayama, Japan<br>6.916 million tonnes C02e\", \"Lake Forest, IL, USA<br>0.402364 million tonnes C02e\", \"Alton, IL, USA<br>0.401079 million tonnes C02e\", \"Santiago de Cali, Colombia<br>4.174608 million tonnes C02e\", \"Hiroshima, Japan<br>8.675437 million tonnes C02e\", \"Aarhus Kommune, Denmark<br>0.0019 million tonnes C02e\", \"Nice C\\u00f4te d'Azur, France<br>3.352154 million tonnes C02e\", \"Landeshauptstadt Magdeburg, Germany<br>1.4 million tonnes C02e\", \"Bornova , Turkey<br>0.758627 million tonnes C02e\", \"Athens, Greece<br>4.711576 million tonnes C02e\", \"Goi\\u00e2nia, Brazil<br>2.01632 million tonnes C02e\", \"Porto Alegre, Brazil<br>2.829128 million tonnes C02e\", \"Regi\\u00f3n Metropolitana de Santiago, Chile<br>23.1200278 million tonnes C02e\", \"Windsor, Canada<br>2.475703 million tonnes C02e\", \"Recife, Brazil<br>0.001883 million tonnes C02e\", \"Salvador, Brazil<br>3.698964 million tonnes C02e\", \"Santiago de Guayaquil, Ecuador<br>6.787374 million tonnes C02e\", \"Addis Ababa, Ethiopia<br>3.708292 million tonnes C02e\", \"North Vancouver, Canada<br>0.19684 million tonnes C02e\", \"Peterborough, Canada<br>0.283061 million tonnes C02e\", \"Seoul , South Korea<br>47.612664 million tonnes C02e\", \"Communaut\\u00e9 urbaine du Grand Nancy, France<br>2.15 million tonnes C02e\", \"Dublin, Ireland<br>2.942349 million tonnes C02e\", \"Genova, Italy<br>1.81037 million tonnes C02e\", \"Milano, Italy<br>5.976779 million tonnes C02e\", \"Amman , Jordan<br>7.215407 million tonnes C02e\", \"Piacenza, Italy<br>0.615452 million tonnes C02e\", \"Lima, Peru<br>15.432105 million tonnes C02e\", \"San Antonio, USA<br>15.734762 million tonnes C02e\", \"Guaratinguet\\u00e1, Brazil<br>0.54819598 million tonnes C02e\", \"Ljubljana, Slovenia<br>2.079758 million tonnes C02e\", \"Lagos, Nigeria<br>29.426266 million tonnes C02e\", \"\\u00c1gueda, Portugal<br>0.258882 million tonnes C02e\", \"Santar\\u00e9m, Portugal<br>0.331717 million tonnes C02e\", \"Torres Vedras , Portugal<br>0.260331 million tonnes C02e\", \"Indianapolis, USA<br>2.1603649799999998 million tonnes C02e\", \"Houston, USA<br>33.428301 million tonnes C02e\", \"Boulder, USA<br>1.721996 million tonnes C02e\", \"Albany, USA<br>1.217091 million tonnes C02e\", \"Baltimore, USA<br>7.579144 million tonnes C02e\", \"Blacksburg, USA<br>0.38374715000000004 million tonnes C02e\", \"Cleveland, USA<br>11.889595 million tonnes C02e\", \"Lancaster, PA, USA<br>0.365763 million tonnes C02e\", \"University City, MO, USA<br>0.501147 million tonnes C02e\", \"New Orleans, USA<br>4.558575 million tonnes C02e\", \"Savannah, USA<br>3.609546 million tonnes C02e\", \"West Hollywood, USA<br>0.583213 million tonnes C02e\", \"Reno, USA<br>4.437665 million tonnes C02e\", \"San Francisco, USA<br>5.381687 million tonnes C02e\", \"Somerville, MA, USA<br>0.586308 million tonnes C02e\", \"La Paz, Bolivia<br>1.4265338 million tonnes C02e\", \"Sorocaba, Brazil<br>1.113971 million tonnes C02e\"], \"type\": \"scattergeo\"}],\n",
       "                        {\"geo\": {\"lakecolor\": \"#DAECED\", \"landcolor\": \"#CECD7B\", \"oceancolor\": \"#DAECED\", \"showcoastlines\": false, \"showframe\": false, \"showocean\": true}, \"showlegend\": true, \"template\": {\"data\": {\"bar\": [{\"error_x\": {\"color\": \"#2a3f5f\"}, \"error_y\": {\"color\": \"#2a3f5f\"}, \"marker\": {\"line\": {\"color\": \"#E5ECF6\", \"width\": 0.5}}, \"type\": \"bar\"}], \"barpolar\": [{\"marker\": {\"line\": {\"color\": \"#E5ECF6\", \"width\": 0.5}}, \"type\": \"barpolar\"}], \"carpet\": [{\"aaxis\": {\"endlinecolor\": \"#2a3f5f\", \"gridcolor\": \"white\", \"linecolor\": \"white\", \"minorgridcolor\": \"white\", \"startlinecolor\": \"#2a3f5f\"}, \"baxis\": {\"endlinecolor\": \"#2a3f5f\", \"gridcolor\": \"white\", \"linecolor\": \"white\", \"minorgridcolor\": \"white\", \"startlinecolor\": \"#2a3f5f\"}, \"type\": \"carpet\"}], \"choropleth\": [{\"colorbar\": {\"outlinewidth\": 0, \"ticks\": \"\"}, \"type\": \"choropleth\"}], \"contour\": [{\"colorbar\": {\"outlinewidth\": 0, \"ticks\": \"\"}, \"colorscale\": [[0.0, \"#0d0887\"], [0.1111111111111111, \"#46039f\"], [0.2222222222222222, \"#7201a8\"], [0.3333333333333333, \"#9c179e\"], [0.4444444444444444, \"#bd3786\"], [0.5555555555555556, \"#d8576b\"], [0.6666666666666666, \"#ed7953\"], [0.7777777777777778, \"#fb9f3a\"], [0.8888888888888888, \"#fdca26\"], [1.0, \"#f0f921\"]], \"type\": \"contour\"}], \"contourcarpet\": [{\"colorbar\": {\"outlinewidth\": 0, \"ticks\": \"\"}, \"type\": \"contourcarpet\"}], \"heatmap\": [{\"colorbar\": {\"outlinewidth\": 0, \"ticks\": \"\"}, \"colorscale\": [[0.0, \"#0d0887\"], [0.1111111111111111, \"#46039f\"], [0.2222222222222222, \"#7201a8\"], [0.3333333333333333, \"#9c179e\"], [0.4444444444444444, \"#bd3786\"], [0.5555555555555556, \"#d8576b\"], [0.6666666666666666, \"#ed7953\"], [0.7777777777777778, \"#fb9f3a\"], [0.8888888888888888, \"#fdca26\"], [1.0, \"#f0f921\"]], \"type\": \"heatmap\"}], \"heatmapgl\": [{\"colorbar\": {\"outlinewidth\": 0, \"ticks\": \"\"}, \"colorscale\": [[0.0, \"#0d0887\"], [0.1111111111111111, \"#46039f\"], [0.2222222222222222, \"#7201a8\"], [0.3333333333333333, \"#9c179e\"], [0.4444444444444444, \"#bd3786\"], [0.5555555555555556, \"#d8576b\"], [0.6666666666666666, \"#ed7953\"], [0.7777777777777778, \"#fb9f3a\"], [0.8888888888888888, \"#fdca26\"], [1.0, \"#f0f921\"]], \"type\": \"heatmapgl\"}], \"histogram\": [{\"marker\": {\"colorbar\": {\"outlinewidth\": 0, \"ticks\": \"\"}}, \"type\": \"histogram\"}], \"histogram2d\": [{\"colorbar\": {\"outlinewidth\": 0, \"ticks\": \"\"}, \"colorscale\": [[0.0, \"#0d0887\"], [0.1111111111111111, \"#46039f\"], [0.2222222222222222, \"#7201a8\"], [0.3333333333333333, \"#9c179e\"], [0.4444444444444444, \"#bd3786\"], [0.5555555555555556, \"#d8576b\"], [0.6666666666666666, \"#ed7953\"], [0.7777777777777778, \"#fb9f3a\"], [0.8888888888888888, \"#fdca26\"], [1.0, \"#f0f921\"]], \"type\": \"histogram2d\"}], \"histogram2dcontour\": [{\"colorbar\": {\"outlinewidth\": 0, \"ticks\": \"\"}, \"colorscale\": [[0.0, \"#0d0887\"], [0.1111111111111111, \"#46039f\"], [0.2222222222222222, \"#7201a8\"], [0.3333333333333333, \"#9c179e\"], [0.4444444444444444, \"#bd3786\"], [0.5555555555555556, \"#d8576b\"], [0.6666666666666666, \"#ed7953\"], [0.7777777777777778, \"#fb9f3a\"], [0.8888888888888888, \"#fdca26\"], [1.0, \"#f0f921\"]], \"type\": \"histogram2dcontour\"}], \"mesh3d\": [{\"colorbar\": {\"outlinewidth\": 0, \"ticks\": \"\"}, \"type\": \"mesh3d\"}], \"parcoords\": [{\"line\": {\"colorbar\": {\"outlinewidth\": 0, \"ticks\": \"\"}}, \"type\": \"parcoords\"}], \"scatter\": [{\"marker\": {\"colorbar\": {\"outlinewidth\": 0, \"ticks\": \"\"}}, \"type\": \"scatter\"}], \"scatter3d\": [{\"line\": {\"colorbar\": {\"outlinewidth\": 0, \"ticks\": \"\"}}, \"marker\": {\"colorbar\": {\"outlinewidth\": 0, \"ticks\": \"\"}}, \"type\": \"scatter3d\"}], \"scattercarpet\": [{\"marker\": {\"colorbar\": {\"outlinewidth\": 0, \"ticks\": \"\"}}, \"type\": \"scattercarpet\"}], \"scattergeo\": [{\"marker\": {\"colorbar\": {\"outlinewidth\": 0, \"ticks\": \"\"}}, \"type\": \"scattergeo\"}], \"scattergl\": [{\"marker\": {\"colorbar\": {\"outlinewidth\": 0, \"ticks\": \"\"}}, \"type\": \"scattergl\"}], \"scattermapbox\": [{\"marker\": {\"colorbar\": {\"outlinewidth\": 0, \"ticks\": \"\"}}, \"type\": \"scattermapbox\"}], \"scatterpolar\": [{\"marker\": {\"colorbar\": {\"outlinewidth\": 0, \"ticks\": \"\"}}, \"type\": \"scatterpolar\"}], \"scatterpolargl\": [{\"marker\": {\"colorbar\": {\"outlinewidth\": 0, \"ticks\": \"\"}}, \"type\": \"scatterpolargl\"}], \"scatterternary\": [{\"marker\": {\"colorbar\": {\"outlinewidth\": 0, \"ticks\": \"\"}}, \"type\": \"scatterternary\"}], \"surface\": [{\"colorbar\": {\"outlinewidth\": 0, \"ticks\": \"\"}, \"colorscale\": [[0.0, \"#0d0887\"], [0.1111111111111111, \"#46039f\"], [0.2222222222222222, \"#7201a8\"], [0.3333333333333333, \"#9c179e\"], [0.4444444444444444, \"#bd3786\"], [0.5555555555555556, \"#d8576b\"], [0.6666666666666666, \"#ed7953\"], [0.7777777777777778, \"#fb9f3a\"], [0.8888888888888888, \"#fdca26\"], [1.0, \"#f0f921\"]], \"type\": \"surface\"}], \"table\": [{\"cells\": {\"fill\": {\"color\": \"#EBF0F8\"}, \"line\": {\"color\": \"white\"}}, \"header\": {\"fill\": {\"color\": \"#C8D4E3\"}, \"line\": {\"color\": \"white\"}}, \"type\": \"table\"}]}, \"layout\": {\"annotationdefaults\": {\"arrowcolor\": \"#2a3f5f\", \"arrowhead\": 0, \"arrowwidth\": 1}, \"colorscale\": {\"diverging\": [[0, \"#8e0152\"], [0.1, \"#c51b7d\"], [0.2, \"#de77ae\"], [0.3, \"#f1b6da\"], [0.4, \"#fde0ef\"], [0.5, \"#f7f7f7\"], [0.6, \"#e6f5d0\"], [0.7, \"#b8e186\"], [0.8, \"#7fbc41\"], [0.9, \"#4d9221\"], [1, \"#276419\"]], \"sequential\": [[0.0, \"#0d0887\"], [0.1111111111111111, \"#46039f\"], [0.2222222222222222, \"#7201a8\"], [0.3333333333333333, \"#9c179e\"], [0.4444444444444444, \"#bd3786\"], [0.5555555555555556, \"#d8576b\"], [0.6666666666666666, \"#ed7953\"], [0.7777777777777778, \"#fb9f3a\"], [0.8888888888888888, \"#fdca26\"], [1.0, \"#f0f921\"]], \"sequentialminus\": [[0.0, \"#0d0887\"], [0.1111111111111111, \"#46039f\"], [0.2222222222222222, \"#7201a8\"], [0.3333333333333333, \"#9c179e\"], [0.4444444444444444, \"#bd3786\"], [0.5555555555555556, \"#d8576b\"], [0.6666666666666666, \"#ed7953\"], [0.7777777777777778, \"#fb9f3a\"], [0.8888888888888888, \"#fdca26\"], [1.0, \"#f0f921\"]]}, \"colorway\": [\"#636efa\", \"#EF553B\", \"#00cc96\", \"#ab63fa\", \"#FFA15A\", \"#19d3f3\", \"#FF6692\", \"#B6E880\", \"#FF97FF\", \"#FECB52\"], \"font\": {\"color\": \"#2a3f5f\"}, \"geo\": {\"bgcolor\": \"white\", \"lakecolor\": \"white\", \"landcolor\": \"#E5ECF6\", \"showlakes\": true, \"showland\": true, \"subunitcolor\": \"white\"}, \"hoverlabel\": {\"align\": \"left\"}, \"hovermode\": \"closest\", \"mapbox\": {\"style\": \"light\"}, \"paper_bgcolor\": \"white\", \"plot_bgcolor\": \"#E5ECF6\", \"polar\": {\"angularaxis\": {\"gridcolor\": \"white\", \"linecolor\": \"white\", \"ticks\": \"\"}, \"bgcolor\": \"#E5ECF6\", \"radialaxis\": {\"gridcolor\": \"white\", \"linecolor\": \"white\", \"ticks\": \"\"}}, \"scene\": {\"xaxis\": {\"backgroundcolor\": \"#E5ECF6\", \"gridcolor\": \"white\", \"gridwidth\": 2, \"linecolor\": \"white\", \"showbackground\": true, \"ticks\": \"\", \"zerolinecolor\": \"white\"}, \"yaxis\": {\"backgroundcolor\": \"#E5ECF6\", \"gridcolor\": \"white\", \"gridwidth\": 2, \"linecolor\": \"white\", \"showbackground\": true, \"ticks\": \"\", \"zerolinecolor\": \"white\"}, \"zaxis\": {\"backgroundcolor\": \"#E5ECF6\", \"gridcolor\": \"white\", \"gridwidth\": 2, \"linecolor\": \"white\", \"showbackground\": true, \"ticks\": \"\", \"zerolinecolor\": \"white\"}}, \"shapedefaults\": {\"line\": {\"color\": \"#2a3f5f\"}}, \"ternary\": {\"aaxis\": {\"gridcolor\": \"white\", \"linecolor\": \"white\", \"ticks\": \"\"}, \"baxis\": {\"gridcolor\": \"white\", \"linecolor\": \"white\", \"ticks\": \"\"}, \"bgcolor\": \"#E5ECF6\", \"caxis\": {\"gridcolor\": \"white\", \"linecolor\": \"white\", \"ticks\": \"\"}}, \"title\": {\"x\": 0.05}, \"xaxis\": {\"automargin\": true, \"gridcolor\": \"white\", \"linecolor\": \"white\", \"ticks\": \"\", \"zerolinecolor\": \"white\", \"zerolinewidth\": 2}, \"yaxis\": {\"automargin\": true, \"gridcolor\": \"white\", \"linecolor\": \"white\", \"ticks\": \"\", \"zerolinecolor\": \"white\", \"zerolinewidth\": 2}}}, \"title\": {\"text\": \"2016 Global Green House Emissions<br>(in metric tonnes C02e)\"}},\n",
       "                        {\"responsive\": true}\n",
       "                    ).then(function(){\n",
       "                            \n",
       "var gd = document.getElementById('84e8547a-e2e9-42f6-bc66-9d7f8530621f');\n",
       "var x = new MutationObserver(function (mutations, observer) {{\n",
       "        var display = window.getComputedStyle(gd).display;\n",
       "        if (!display || display === 'none') {{\n",
       "            console.log([gd, 'removed!']);\n",
       "            Plotly.purge(gd);\n",
       "            observer.disconnect();\n",
       "        }}\n",
       "}});\n",
       "\n",
       "// Listen for the removal of the full notebook cells\n",
       "var notebookContainer = gd.closest('#notebook-container');\n",
       "if (notebookContainer) {{\n",
       "    x.observe(notebookContainer, {childList: true});\n",
       "}}\n",
       "\n",
       "// Listen for the clearing of the current output cell\n",
       "var outputEl = gd.closest('.output');\n",
       "if (outputEl) {{\n",
       "    x.observe(outputEl, {childList: true});\n",
       "}}\n",
       "\n",
       "                        })\n",
       "                };\n",
       "                });\n",
       "            </script>\n",
       "        </div>"
      ]
     },
     "metadata": {},
     "output_type": "display_data"
    }
   ],
   "source": [
    "# fig4 = go.Figure() # initialize figure\n",
    "\n",
    "# add points whose GHE stayed the same\n",
    "fig4.add_trace(go.Scattergeo(locationmode = 'ISO-3',      # sets the scope of the map to a world view\n",
    "                            lat = ghe_yellow['Latitude'], # gives plotly the latitude of our data\n",
    "                            lon = ghe_yellow['Longitude'], # gives plotly the longitude of our data\n",
    "                             \n",
    "                             # these next few lines builds the information inside the hover box\n",
    "                            text = ghe_yellow['City Short Name'] +   # add city name\n",
    "                                   ', ' + \n",
    "                                   ghe_yellow['Country'] + # add country\n",
    "                                   '<br>' +\n",
    "                             # line below adds Green House Emissions and formats it to be more legible \n",
    "                                   (ghe_yellow['Total City-wide Emissions (metric tonnes CO2e)'] / 1e6).astype('str')  + \n",
    "                                   ' million tonnes C02e', # adds units to GHE\n",
    "                            marker_size = ghe_yellow['sizes'], # changes size of point based on GHE (scaled in 'size' column)\n",
    "                            marker_sizemode = 'area', # method of sizing point\n",
    "                            marker_color = ghe_yellow['colors'], # change color of point\n",
    "                            name = 'GHE ' + plotlegend[2])) # add name of legend\n",
    "\n",
    "# now add those that increaesed GHE, following the same pattern as above\n",
    "fig4.add_trace(go.Scattergeo(locationmode = 'ISO-3',\n",
    "                            lat = ghe_red['Latitude'],\n",
    "                            lon = ghe_red['Longitude'],\n",
    "                            text = ghe_red['City Short Name'] + \n",
    "                                   ', ' + \n",
    "                                   ghe_red['Country'] + \n",
    "                                   '<br>' +\n",
    "                                   (ghe_red['Total City-wide Emissions (metric tonnes CO2e)'] / 1e6).astype('str')  +\n",
    "                                   ' million tonnes C02e',\n",
    "                            marker_size = ghe_red['sizes'],\n",
    "                            marker_sizemode = 'area',\n",
    "                            marker_color = ghe_red['colors'],\n",
    "                            name = 'GHE ' + plotlegend[0]))\n",
    "\n",
    "\n",
    "# add those that decreased GHE\n",
    "fig4.add_trace(go.Scattergeo(locationmode = 'ISO-3',\n",
    "                            lat = ghe_green['Latitude'],\n",
    "                            lon = ghe_green['Longitude'],\n",
    "                            text = ghe_green['City Short Name'] + \n",
    "                                   ', ' + \n",
    "                                   ghe_green['Country'] + \n",
    "                                   '<br>' +\n",
    "                                   (ghe_green['Total City-wide Emissions (metric tonnes CO2e)'] / 1e6).astype('str')  +\n",
    "                                   ' million tonnes C02e',                            \n",
    "                            marker_size = ghe_green['sizes'],\n",
    "                            marker_sizemode = 'area',\n",
    "                            marker_color = ghe_green['colors'],\n",
    "                            name = 'GHE ' + plotlegend[1]))\n",
    "\n",
    "\n",
    "\n",
    "# now, add those in the 'other group'\n",
    "fig4.add_trace(go.Scattergeo(locationmode = 'ISO-3',\n",
    "                            lat = ghe_gray['Latitude'],\n",
    "                            lon = ghe_gray['Longitude'],\n",
    "                            text = ghe_gray['City Short Name'] + \n",
    "                                   ', ' + \n",
    "                                   ghe_gray['Country'] + \n",
    "                                   '<br>' +\n",
    "                                   (ghe_gray['Total City-wide Emissions (metric tonnes CO2e)'] / 1e6).astype('str')  +\n",
    "                                   ' million tonnes C02e',\n",
    "                            marker_size = ghe_gray['sizes'],\n",
    "                            marker_sizemode = 'area',\n",
    "                            marker_color = ghe_gray['colors'],\n",
    "                            name = plotlegend[3]))\n",
    "\n",
    "\n",
    "\n",
    "\n",
    "# change the layout of the graph, and the aesthetics of the map\n",
    "fig4.update_layout(title_text = '2016 Global Green House Emissions<br>(in metric tonnes C02e)', # add title\n",
    "                  showlegend = True, # show legend\n",
    "                  geo_showocean = True, # show ocean\n",
    "                  geo_oceancolor = '#DAECED', # change color of ocean\n",
    "                  geo_landcolor = '#CECD7B', # change color of land\n",
    "                  geo_showcoastlines = False, # get rid of borders on coasts\n",
    "                  geo_showframe = False, # get rid of frame around plot\n",
    "                  geo_lakecolor = '#DAECED') # change color of lakes to match the ocean\n",
    "fig4.show()"
   ]
  },
  {
   "cell_type": "markdown",
   "metadata": {},
   "source": [
    "Hover over points, zoom in, pan, and explore the data. "
   ]
  }
 ],
 "metadata": {
  "kernelspec": {
   "display_name": "Python 3",
   "language": "python",
   "name": "python3"
  },
  "language_info": {
   "codemirror_mode": {
    "name": "ipython",
    "version": 3
   },
   "file_extension": ".py",
   "mimetype": "text/x-python",
   "name": "python",
   "nbconvert_exporter": "python",
   "pygments_lexer": "ipython3",
   "version": "3.7.3"
  }
 },
 "nbformat": 4,
 "nbformat_minor": 2
}
